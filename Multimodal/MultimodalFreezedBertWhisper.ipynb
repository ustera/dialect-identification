{
 "cells": [
  {
   "cell_type": "code",
   "execution_count": 17,
   "id": "8a54558b",
   "metadata": {},
   "outputs": [],
   "source": [
    "import torch\n",
    "from torch.utils.data import DataLoader, Dataset\n",
    "import pytorch_lightning as pl\n",
    "from pytorch_lightning import Trainer\n",
    "from transformers import BertModel, BertTokenizer, WhisperModel, WhisperFeatureExtractor\n",
    "from sklearn.metrics import accuracy_score, precision_score, recall_score, f1_score\n",
    "from sklearn.metrics import confusion_matrix, ConfusionMatrixDisplay, classification_report\n",
    "import librosa\n",
    "import pandas as pd\n",
    "from sklearn.preprocessing import LabelEncoder\n",
    "from tqdm import tqdm\n",
    "import numpy as np\n",
    "import os\n",
    "from pytorch_lightning.loggers import CSVLogger\n",
    "from pytorch_lightning.callbacks import EarlyStopping, ModelCheckpoint\n",
    "from torch.serialization import add_safe_globals\n",
    "torch.manual_seed(55)\n",
    "tqdm.pandas()"
   ]
  },
  {
   "cell_type": "markdown",
   "id": "20c45802",
   "metadata": {},
   "source": [
    "# Define the model where we have bert encoder, whisper encoder and classifier"
   ]
  },
  {
   "cell_type": "markdown",
   "id": "ab20f2e6",
   "metadata": {},
   "source": [
    "### Freezing Whisper bottom layers and BERT top layers"
   ]
  },
  {
   "cell_type": "code",
   "execution_count": 18,
   "id": "10d79c21",
   "metadata": {},
   "outputs": [],
   "source": [
    "class AudioTextClassifier(pl.LightningModule):\n",
    "    def __init__(self, num_classes=5, hidden_dim=512, lr=5e-6):\n",
    "        super().__init__()\n",
    "        self.save_hyperparameters()\n",
    "        self.bert = BertModel.from_pretrained(\"DeepPavlov/rubert-base-cased-conversational\")\n",
    "        self.bert_hidden = self.bert.config.hidden_size\n",
    "        self.whisper = WhisperModel.from_pretrained(\"openai/whisper-tiny\").encoder\n",
    "        self.whisper_hidden = 384\n",
    "        self.classifier = torch.nn.Sequential(\n",
    "            torch.nn.Linear(self.bert_hidden + self.whisper_hidden, hidden_dim),\n",
    "            torch.nn.ReLU(),\n",
    "            torch.nn.Dropout(0.5),\n",
    "            torch.nn.Linear(hidden_dim, num_classes)\n",
    "        )\n",
    "        self.loss_fn = torch.nn.CrossEntropyLoss()\n",
    "        self.val_step_outputs = []\n",
    "        self.val_step_targets = []\n",
    "        \n",
    "        #freeze whisper bottom layers\n",
    "        for param in self.whisper.parameters():\n",
    "            param.requires_grad = False\n",
    "        total_layers = len(self.whisper.layers)\n",
    "        for i in range(total_layers - 2, total_layers):\n",
    "            for param in self.whisper.layers[i].parameters():\n",
    "                param.requires_grad = True\n",
    "                \n",
    "        #freeze bert top layers        \n",
    "        total_layers = len(self.bert.encoder.layer)\n",
    "        for i in range(total_layers - 3, total_layers):\n",
    "            for param in self.bert.encoder.layer[i].parameters():\n",
    "                param.requires_grad = False\n",
    "        for name, param in self.bert.named_parameters():\n",
    "            if \"LayerNorm\" in name or \"pooler\" in name:\n",
    "                param.requires_grad = True\n",
    "\n",
    "    def forward(self, input_ids, attention_mask, mel_spec):\n",
    "        text_feat = self.bert(input_ids=input_ids, attention_mask=attention_mask).pooler_output\n",
    "        input_features = mel_spec.transpose(1, 2)\n",
    "        audio_outputs = self.whisper(input_features=input_features)\n",
    "        audio_feat = audio_outputs.last_hidden_state.mean(dim=1) \n",
    "        combined = torch.cat((text_feat, audio_feat), dim=1)\n",
    "        logits = self.classifier(combined)\n",
    "        return logits\n",
    "\n",
    "    def training_step(self, batch, batch_idx):\n",
    "        input_ids = batch['input_ids']\n",
    "        attention_mask = batch['attention_mask']\n",
    "        mel_spec = batch['mel_spec'].transpose(1, 2)\n",
    "        labels = batch['labels'].type(torch.LongTensor)\n",
    "        logits = self(input_ids, attention_mask, mel_spec)\n",
    "        loss = self.loss_fn(logits, labels)\n",
    "        acc = (logits.argmax(dim=1) == labels).float().mean()\n",
    "        self.log(\"train_loss\", loss, prog_bar=True)\n",
    "        self.log(\"train_acc\", acc, prog_bar=True)\n",
    "        return loss\n",
    "\n",
    "    def validation_step(self, batch, batch_idx):\n",
    "        input_ids = batch['input_ids']\n",
    "        attention_mask = batch['attention_mask']\n",
    "        mel_spec = batch['mel_spec'].transpose(1, 2)\n",
    "        labels = batch['labels'].type(torch.LongTensor)\n",
    "        logits = self(input_ids, attention_mask, mel_spec)\n",
    "        loss = self.loss_fn(logits, labels)\n",
    "        preds = logits.argmax(dim=1)\n",
    "        acc = (preds == labels).float().mean()\n",
    "        self.log(\"val_loss\", loss, prog_bar=True)\n",
    "        self.log(\"val_acc\", acc, prog_bar=True)\n",
    "        self.val_step_outputs.extend(preds)\n",
    "        self.val_step_targets.extend(labels)\n",
    "        \n",
    "    def on_validation_epoch_end(self):\n",
    "        val_all_outputs = self.val_step_outputs\n",
    "        val_all_targets = self.val_step_targets\n",
    "        acc = accuracy_score(val_all_targets, val_all_outputs)\n",
    "        precision = precision_score(val_all_targets, val_all_outputs, average=\"macro\", zero_division=0)\n",
    "        recall = recall_score(val_all_targets, val_all_outputs, average=\"macro\", zero_division=0)\n",
    "        f1 = f1_score(val_all_targets, val_all_outputs, average=\"macro\", zero_division=0)\n",
    "        self.log(\"val_acc\", acc, prog_bar=True)\n",
    "        self.log(\"val_precision\", precision, prog_bar=True)\n",
    "        self.log(\"val_recall\", recall, prog_bar=True)\n",
    "        self.log(\"val_f1_macro\", f1, prog_bar=True)\n",
    "        self.val_step_outputs.clear()\n",
    "        self.val_step_targets.clear()\n",
    "        \n",
    "    def predict_step(self, batch, batch_idx, dataloader_idx=0):\n",
    "        self.eval()\n",
    "        labels = batch.pop('labels').type(torch.LongTensor)\n",
    "        logits = self(batch[\"input_ids\"], batch[\"attention_mask\"], batch[\"mel_spec\"].transpose(1, 2))\n",
    "        predictions = logits.argmax(dim=1)\n",
    "        return labels, predictions\n",
    "\n",
    "    def configure_optimizers(self):\n",
    "        return torch.optim.AdamW(self.parameters(), lr=self.hparams.lr, weight_decay=1e-4)"
   ]
  },
  {
   "cell_type": "code",
   "execution_count": 19,
   "id": "ef58b77f",
   "metadata": {},
   "outputs": [
    {
     "name": "stderr",
     "output_type": "stream",
     "text": [
      "Some weights of the model checkpoint at DeepPavlov/rubert-base-cased-conversational were not used when initializing BertModel: ['cls.predictions.bias', 'cls.predictions.decoder.bias', 'cls.predictions.decoder.weight', 'cls.predictions.transform.LayerNorm.bias', 'cls.predictions.transform.LayerNorm.weight', 'cls.predictions.transform.dense.bias', 'cls.predictions.transform.dense.weight', 'cls.seq_relationship.bias', 'cls.seq_relationship.weight']\n",
      "- This IS expected if you are initializing BertModel from the checkpoint of a model trained on another task or with another architecture (e.g. initializing a BertForSequenceClassification model from a BertForPreTraining model).\n",
      "- This IS NOT expected if you are initializing BertModel from the checkpoint of a model that you expect to be exactly identical (initializing a BertForSequenceClassification model from a BertForSequenceClassification model).\n"
     ]
    },
    {
     "name": "stdout",
     "output_type": "stream",
     "text": [
      "bert.embeddings.word_embeddings.weight True\n",
      "bert.embeddings.position_embeddings.weight True\n",
      "bert.embeddings.token_type_embeddings.weight True\n",
      "bert.embeddings.LayerNorm.weight True\n",
      "bert.embeddings.LayerNorm.bias True\n",
      "bert.encoder.layer.0.attention.self.query.weight True\n",
      "bert.encoder.layer.0.attention.self.query.bias True\n",
      "bert.encoder.layer.0.attention.self.key.weight True\n",
      "bert.encoder.layer.0.attention.self.key.bias True\n",
      "bert.encoder.layer.0.attention.self.value.weight True\n",
      "bert.encoder.layer.0.attention.self.value.bias True\n",
      "bert.encoder.layer.0.attention.output.dense.weight True\n",
      "bert.encoder.layer.0.attention.output.dense.bias True\n",
      "bert.encoder.layer.0.attention.output.LayerNorm.weight True\n",
      "bert.encoder.layer.0.attention.output.LayerNorm.bias True\n",
      "bert.encoder.layer.0.intermediate.dense.weight True\n",
      "bert.encoder.layer.0.intermediate.dense.bias True\n",
      "bert.encoder.layer.0.output.dense.weight True\n",
      "bert.encoder.layer.0.output.dense.bias True\n",
      "bert.encoder.layer.0.output.LayerNorm.weight True\n",
      "bert.encoder.layer.0.output.LayerNorm.bias True\n",
      "bert.encoder.layer.1.attention.self.query.weight True\n",
      "bert.encoder.layer.1.attention.self.query.bias True\n",
      "bert.encoder.layer.1.attention.self.key.weight True\n",
      "bert.encoder.layer.1.attention.self.key.bias True\n",
      "bert.encoder.layer.1.attention.self.value.weight True\n",
      "bert.encoder.layer.1.attention.self.value.bias True\n",
      "bert.encoder.layer.1.attention.output.dense.weight True\n",
      "bert.encoder.layer.1.attention.output.dense.bias True\n",
      "bert.encoder.layer.1.attention.output.LayerNorm.weight True\n",
      "bert.encoder.layer.1.attention.output.LayerNorm.bias True\n",
      "bert.encoder.layer.1.intermediate.dense.weight True\n",
      "bert.encoder.layer.1.intermediate.dense.bias True\n",
      "bert.encoder.layer.1.output.dense.weight True\n",
      "bert.encoder.layer.1.output.dense.bias True\n",
      "bert.encoder.layer.1.output.LayerNorm.weight True\n",
      "bert.encoder.layer.1.output.LayerNorm.bias True\n",
      "bert.encoder.layer.2.attention.self.query.weight True\n",
      "bert.encoder.layer.2.attention.self.query.bias True\n",
      "bert.encoder.layer.2.attention.self.key.weight True\n",
      "bert.encoder.layer.2.attention.self.key.bias True\n",
      "bert.encoder.layer.2.attention.self.value.weight True\n",
      "bert.encoder.layer.2.attention.self.value.bias True\n",
      "bert.encoder.layer.2.attention.output.dense.weight True\n",
      "bert.encoder.layer.2.attention.output.dense.bias True\n",
      "bert.encoder.layer.2.attention.output.LayerNorm.weight True\n",
      "bert.encoder.layer.2.attention.output.LayerNorm.bias True\n",
      "bert.encoder.layer.2.intermediate.dense.weight True\n",
      "bert.encoder.layer.2.intermediate.dense.bias True\n",
      "bert.encoder.layer.2.output.dense.weight True\n",
      "bert.encoder.layer.2.output.dense.bias True\n",
      "bert.encoder.layer.2.output.LayerNorm.weight True\n",
      "bert.encoder.layer.2.output.LayerNorm.bias True\n",
      "bert.encoder.layer.3.attention.self.query.weight True\n",
      "bert.encoder.layer.3.attention.self.query.bias True\n",
      "bert.encoder.layer.3.attention.self.key.weight True\n",
      "bert.encoder.layer.3.attention.self.key.bias True\n",
      "bert.encoder.layer.3.attention.self.value.weight True\n",
      "bert.encoder.layer.3.attention.self.value.bias True\n",
      "bert.encoder.layer.3.attention.output.dense.weight True\n",
      "bert.encoder.layer.3.attention.output.dense.bias True\n",
      "bert.encoder.layer.3.attention.output.LayerNorm.weight True\n",
      "bert.encoder.layer.3.attention.output.LayerNorm.bias True\n",
      "bert.encoder.layer.3.intermediate.dense.weight True\n",
      "bert.encoder.layer.3.intermediate.dense.bias True\n",
      "bert.encoder.layer.3.output.dense.weight True\n",
      "bert.encoder.layer.3.output.dense.bias True\n",
      "bert.encoder.layer.3.output.LayerNorm.weight True\n",
      "bert.encoder.layer.3.output.LayerNorm.bias True\n",
      "bert.encoder.layer.4.attention.self.query.weight True\n",
      "bert.encoder.layer.4.attention.self.query.bias True\n",
      "bert.encoder.layer.4.attention.self.key.weight True\n",
      "bert.encoder.layer.4.attention.self.key.bias True\n",
      "bert.encoder.layer.4.attention.self.value.weight True\n",
      "bert.encoder.layer.4.attention.self.value.bias True\n",
      "bert.encoder.layer.4.attention.output.dense.weight True\n",
      "bert.encoder.layer.4.attention.output.dense.bias True\n",
      "bert.encoder.layer.4.attention.output.LayerNorm.weight True\n",
      "bert.encoder.layer.4.attention.output.LayerNorm.bias True\n",
      "bert.encoder.layer.4.intermediate.dense.weight True\n",
      "bert.encoder.layer.4.intermediate.dense.bias True\n",
      "bert.encoder.layer.4.output.dense.weight True\n",
      "bert.encoder.layer.4.output.dense.bias True\n",
      "bert.encoder.layer.4.output.LayerNorm.weight True\n",
      "bert.encoder.layer.4.output.LayerNorm.bias True\n",
      "bert.encoder.layer.5.attention.self.query.weight True\n",
      "bert.encoder.layer.5.attention.self.query.bias True\n",
      "bert.encoder.layer.5.attention.self.key.weight True\n",
      "bert.encoder.layer.5.attention.self.key.bias True\n",
      "bert.encoder.layer.5.attention.self.value.weight True\n",
      "bert.encoder.layer.5.attention.self.value.bias True\n",
      "bert.encoder.layer.5.attention.output.dense.weight True\n",
      "bert.encoder.layer.5.attention.output.dense.bias True\n",
      "bert.encoder.layer.5.attention.output.LayerNorm.weight True\n",
      "bert.encoder.layer.5.attention.output.LayerNorm.bias True\n",
      "bert.encoder.layer.5.intermediate.dense.weight True\n",
      "bert.encoder.layer.5.intermediate.dense.bias True\n",
      "bert.encoder.layer.5.output.dense.weight True\n",
      "bert.encoder.layer.5.output.dense.bias True\n",
      "bert.encoder.layer.5.output.LayerNorm.weight True\n",
      "bert.encoder.layer.5.output.LayerNorm.bias True\n",
      "bert.encoder.layer.6.attention.self.query.weight True\n",
      "bert.encoder.layer.6.attention.self.query.bias True\n",
      "bert.encoder.layer.6.attention.self.key.weight True\n",
      "bert.encoder.layer.6.attention.self.key.bias True\n",
      "bert.encoder.layer.6.attention.self.value.weight True\n",
      "bert.encoder.layer.6.attention.self.value.bias True\n",
      "bert.encoder.layer.6.attention.output.dense.weight True\n",
      "bert.encoder.layer.6.attention.output.dense.bias True\n",
      "bert.encoder.layer.6.attention.output.LayerNorm.weight True\n",
      "bert.encoder.layer.6.attention.output.LayerNorm.bias True\n",
      "bert.encoder.layer.6.intermediate.dense.weight True\n",
      "bert.encoder.layer.6.intermediate.dense.bias True\n",
      "bert.encoder.layer.6.output.dense.weight True\n",
      "bert.encoder.layer.6.output.dense.bias True\n",
      "bert.encoder.layer.6.output.LayerNorm.weight True\n",
      "bert.encoder.layer.6.output.LayerNorm.bias True\n",
      "bert.encoder.layer.7.attention.self.query.weight True\n",
      "bert.encoder.layer.7.attention.self.query.bias True\n",
      "bert.encoder.layer.7.attention.self.key.weight True\n",
      "bert.encoder.layer.7.attention.self.key.bias True\n",
      "bert.encoder.layer.7.attention.self.value.weight True\n",
      "bert.encoder.layer.7.attention.self.value.bias True\n",
      "bert.encoder.layer.7.attention.output.dense.weight True\n",
      "bert.encoder.layer.7.attention.output.dense.bias True\n",
      "bert.encoder.layer.7.attention.output.LayerNorm.weight True\n",
      "bert.encoder.layer.7.attention.output.LayerNorm.bias True\n",
      "bert.encoder.layer.7.intermediate.dense.weight True\n",
      "bert.encoder.layer.7.intermediate.dense.bias True\n",
      "bert.encoder.layer.7.output.dense.weight True\n",
      "bert.encoder.layer.7.output.dense.bias True\n",
      "bert.encoder.layer.7.output.LayerNorm.weight True\n",
      "bert.encoder.layer.7.output.LayerNorm.bias True\n",
      "bert.encoder.layer.8.attention.self.query.weight True\n",
      "bert.encoder.layer.8.attention.self.query.bias True\n",
      "bert.encoder.layer.8.attention.self.key.weight True\n",
      "bert.encoder.layer.8.attention.self.key.bias True\n",
      "bert.encoder.layer.8.attention.self.value.weight True\n",
      "bert.encoder.layer.8.attention.self.value.bias True\n",
      "bert.encoder.layer.8.attention.output.dense.weight True\n",
      "bert.encoder.layer.8.attention.output.dense.bias True\n",
      "bert.encoder.layer.8.attention.output.LayerNorm.weight True\n",
      "bert.encoder.layer.8.attention.output.LayerNorm.bias True\n",
      "bert.encoder.layer.8.intermediate.dense.weight True\n",
      "bert.encoder.layer.8.intermediate.dense.bias True\n",
      "bert.encoder.layer.8.output.dense.weight True\n",
      "bert.encoder.layer.8.output.dense.bias True\n",
      "bert.encoder.layer.8.output.LayerNorm.weight True\n",
      "bert.encoder.layer.8.output.LayerNorm.bias True\n",
      "bert.encoder.layer.9.attention.self.query.weight False\n",
      "bert.encoder.layer.9.attention.self.query.bias False\n",
      "bert.encoder.layer.9.attention.self.key.weight False\n",
      "bert.encoder.layer.9.attention.self.key.bias False\n",
      "bert.encoder.layer.9.attention.self.value.weight False\n",
      "bert.encoder.layer.9.attention.self.value.bias False\n",
      "bert.encoder.layer.9.attention.output.dense.weight False\n",
      "bert.encoder.layer.9.attention.output.dense.bias False\n",
      "bert.encoder.layer.9.attention.output.LayerNorm.weight True\n",
      "bert.encoder.layer.9.attention.output.LayerNorm.bias True\n",
      "bert.encoder.layer.9.intermediate.dense.weight False\n",
      "bert.encoder.layer.9.intermediate.dense.bias False\n",
      "bert.encoder.layer.9.output.dense.weight False\n",
      "bert.encoder.layer.9.output.dense.bias False\n",
      "bert.encoder.layer.9.output.LayerNorm.weight True\n",
      "bert.encoder.layer.9.output.LayerNorm.bias True\n",
      "bert.encoder.layer.10.attention.self.query.weight False\n",
      "bert.encoder.layer.10.attention.self.query.bias False\n",
      "bert.encoder.layer.10.attention.self.key.weight False\n",
      "bert.encoder.layer.10.attention.self.key.bias False\n",
      "bert.encoder.layer.10.attention.self.value.weight False\n",
      "bert.encoder.layer.10.attention.self.value.bias False\n",
      "bert.encoder.layer.10.attention.output.dense.weight False\n",
      "bert.encoder.layer.10.attention.output.dense.bias False\n",
      "bert.encoder.layer.10.attention.output.LayerNorm.weight True\n",
      "bert.encoder.layer.10.attention.output.LayerNorm.bias True\n",
      "bert.encoder.layer.10.intermediate.dense.weight False\n",
      "bert.encoder.layer.10.intermediate.dense.bias False\n",
      "bert.encoder.layer.10.output.dense.weight False\n",
      "bert.encoder.layer.10.output.dense.bias False\n",
      "bert.encoder.layer.10.output.LayerNorm.weight True\n",
      "bert.encoder.layer.10.output.LayerNorm.bias True\n",
      "bert.encoder.layer.11.attention.self.query.weight False\n",
      "bert.encoder.layer.11.attention.self.query.bias False\n",
      "bert.encoder.layer.11.attention.self.key.weight False\n",
      "bert.encoder.layer.11.attention.self.key.bias False\n",
      "bert.encoder.layer.11.attention.self.value.weight False\n",
      "bert.encoder.layer.11.attention.self.value.bias False\n",
      "bert.encoder.layer.11.attention.output.dense.weight False\n",
      "bert.encoder.layer.11.attention.output.dense.bias False\n",
      "bert.encoder.layer.11.attention.output.LayerNorm.weight True\n",
      "bert.encoder.layer.11.attention.output.LayerNorm.bias True\n",
      "bert.encoder.layer.11.intermediate.dense.weight False\n",
      "bert.encoder.layer.11.intermediate.dense.bias False\n",
      "bert.encoder.layer.11.output.dense.weight False\n",
      "bert.encoder.layer.11.output.dense.bias False\n",
      "bert.encoder.layer.11.output.LayerNorm.weight True\n",
      "bert.encoder.layer.11.output.LayerNorm.bias True\n",
      "bert.pooler.dense.weight True\n",
      "bert.pooler.dense.bias True\n",
      "whisper.conv1.weight False\n",
      "whisper.conv1.bias False\n",
      "whisper.conv2.weight False\n",
      "whisper.conv2.bias False\n",
      "whisper.embed_positions.weight False\n",
      "whisper.layers.0.self_attn.k_proj.weight False\n",
      "whisper.layers.0.self_attn.v_proj.weight False\n",
      "whisper.layers.0.self_attn.v_proj.bias False\n",
      "whisper.layers.0.self_attn.q_proj.weight False\n",
      "whisper.layers.0.self_attn.q_proj.bias False\n",
      "whisper.layers.0.self_attn.out_proj.weight False\n",
      "whisper.layers.0.self_attn.out_proj.bias False\n",
      "whisper.layers.0.self_attn_layer_norm.weight False\n",
      "whisper.layers.0.self_attn_layer_norm.bias False\n",
      "whisper.layers.0.fc1.weight False\n",
      "whisper.layers.0.fc1.bias False\n",
      "whisper.layers.0.fc2.weight False\n",
      "whisper.layers.0.fc2.bias False\n",
      "whisper.layers.0.final_layer_norm.weight False\n",
      "whisper.layers.0.final_layer_norm.bias False\n",
      "whisper.layers.1.self_attn.k_proj.weight False\n",
      "whisper.layers.1.self_attn.v_proj.weight False\n",
      "whisper.layers.1.self_attn.v_proj.bias False\n",
      "whisper.layers.1.self_attn.q_proj.weight False\n",
      "whisper.layers.1.self_attn.q_proj.bias False\n",
      "whisper.layers.1.self_attn.out_proj.weight False\n",
      "whisper.layers.1.self_attn.out_proj.bias False\n",
      "whisper.layers.1.self_attn_layer_norm.weight False\n",
      "whisper.layers.1.self_attn_layer_norm.bias False\n",
      "whisper.layers.1.fc1.weight False\n",
      "whisper.layers.1.fc1.bias False\n",
      "whisper.layers.1.fc2.weight False\n",
      "whisper.layers.1.fc2.bias False\n",
      "whisper.layers.1.final_layer_norm.weight False\n",
      "whisper.layers.1.final_layer_norm.bias False\n",
      "whisper.layers.2.self_attn.k_proj.weight True\n",
      "whisper.layers.2.self_attn.v_proj.weight True\n",
      "whisper.layers.2.self_attn.v_proj.bias True\n",
      "whisper.layers.2.self_attn.q_proj.weight True\n",
      "whisper.layers.2.self_attn.q_proj.bias True\n",
      "whisper.layers.2.self_attn.out_proj.weight True\n",
      "whisper.layers.2.self_attn.out_proj.bias True\n",
      "whisper.layers.2.self_attn_layer_norm.weight True\n",
      "whisper.layers.2.self_attn_layer_norm.bias True\n",
      "whisper.layers.2.fc1.weight True\n",
      "whisper.layers.2.fc1.bias True\n",
      "whisper.layers.2.fc2.weight True\n",
      "whisper.layers.2.fc2.bias True\n",
      "whisper.layers.2.final_layer_norm.weight True\n",
      "whisper.layers.2.final_layer_norm.bias True\n",
      "whisper.layers.3.self_attn.k_proj.weight True\n",
      "whisper.layers.3.self_attn.v_proj.weight True\n",
      "whisper.layers.3.self_attn.v_proj.bias True\n",
      "whisper.layers.3.self_attn.q_proj.weight True\n",
      "whisper.layers.3.self_attn.q_proj.bias True\n",
      "whisper.layers.3.self_attn.out_proj.weight True\n",
      "whisper.layers.3.self_attn.out_proj.bias True\n",
      "whisper.layers.3.self_attn_layer_norm.weight True\n",
      "whisper.layers.3.self_attn_layer_norm.bias True\n",
      "whisper.layers.3.fc1.weight True\n",
      "whisper.layers.3.fc1.bias True\n",
      "whisper.layers.3.fc2.weight True\n",
      "whisper.layers.3.fc2.bias True\n",
      "whisper.layers.3.final_layer_norm.weight True\n",
      "whisper.layers.3.final_layer_norm.bias True\n",
      "whisper.layer_norm.weight False\n",
      "whisper.layer_norm.bias False\n",
      "classifier.0.weight True\n",
      "classifier.0.bias True\n",
      "classifier.3.weight True\n",
      "classifier.3.bias True\n"
     ]
    }
   ],
   "source": [
    "model = AudioTextClassifier()\n",
    "for name, param in model.named_parameters():\n",
    "    print(str(name) + ' ' + str(param.requires_grad))"
   ]
  },
  {
   "cell_type": "markdown",
   "id": "416b3ef6",
   "metadata": {},
   "source": [
    "# Define dataset class"
   ]
  },
  {
   "cell_type": "code",
   "execution_count": 20,
   "id": "b746b0a3",
   "metadata": {},
   "outputs": [],
   "source": [
    "class AudioTextDataset(Dataset):\n",
    "    def __init__(self, samples, label_encoder):\n",
    "        super().__init__()\n",
    "        self.samples = samples\n",
    "        self.label_encoder = label_encoder\n",
    "\n",
    "    def __len__(self):\n",
    "        return len(self.samples)\n",
    "\n",
    "    def __getitem__(self, idx):\n",
    "        sample = self.samples[idx]\n",
    "        text = sample[\"text\"]\n",
    "        audio = sample[\"audio\"]\n",
    "        label = label_encoder.transform([sample[\"Variant\"]])[0]\n",
    "        return {\"text\": text, \"audio\": audio, \"label\": label}"
   ]
  },
  {
   "cell_type": "code",
   "execution_count": 21,
   "id": "07c24eb4",
   "metadata": {},
   "outputs": [],
   "source": [
    "def collate_fn(batch):\n",
    "    global tokenizer, feature_extractor\n",
    "    texts = [x[\"text\"] for x in batch]\n",
    "    raw_audios = [x[\"audio\"] for x in batch]\n",
    "    labels = torch.tensor([x[\"label\"] for x in batch])\n",
    "    encoding = tokenizer(texts, return_tensors=\"pt\", padding='max_length', truncation=True, max_length=64)\n",
    "    features = feature_extractor(raw_audios, sampling_rate=16000, return_tensors=\"pt\", padding='max_length')\n",
    "    mel_spec = features.input_features\n",
    "    return {\"input_ids\": encoding[\"input_ids\"], \"attention_mask\": encoding[\"attention_mask\"], \n",
    "            \"mel_spec\": mel_spec, \"labels\": labels}"
   ]
  },
  {
   "cell_type": "markdown",
   "id": "ff94957e",
   "metadata": {},
   "source": [
    "# Preprocessing"
   ]
  },
  {
   "cell_type": "code",
   "execution_count": 22,
   "id": "8562a197",
   "metadata": {},
   "outputs": [],
   "source": [
    "def read_audio(path):\n",
    "    try:\n",
    "        audio, sample_rate = librosa.load(path, sr=16000)\n",
    "        return audio\n",
    "    except:\n",
    "        return np.array([])"
   ]
  },
  {
   "cell_type": "code",
   "execution_count": 23,
   "id": "161a4e40",
   "metadata": {},
   "outputs": [
    {
     "name": "stderr",
     "output_type": "stream",
     "text": [
      "100%|████████████████████████████████████████████████████████████████████████████| 25806/25806 [28:02<00:00, 15.34it/s]\n"
     ]
    }
   ],
   "source": [
    "manifest = pd.read_excel(\"manifest_balanced.xlsx\")\n",
    "variants = [\"Arkhangelskie\", \"Novgorodskie\", \"Povolzkie\", \"Pskovskie\", \"Ryazanskie\"]\n",
    "manifest = manifest[manifest[\"Variant\"].isin(variants)]\n",
    "manifest = manifest[[\"path\", \"Variant\", \"text\", \"informant\"]]\n",
    "manifest['audio'] = manifest['path'].progress_apply(read_audio)"
   ]
  },
  {
   "cell_type": "code",
   "execution_count": 24,
   "id": "daf28455",
   "metadata": {},
   "outputs": [],
   "source": [
    "train = pd.DataFrame()\n",
    "valid = pd.DataFrame()\n",
    "test = pd.DataFrame()\n",
    "for variant in variants:\n",
    "    speaker_counts = manifest[manifest['Variant']==variant]['informant'].value_counts().to_dict()\n",
    "    total_records = len(manifest[manifest['Variant']==variant]['path'])\n",
    "    train_target = 0.7 * total_records\n",
    "    val_target = 0.165 * total_records\n",
    "    test_target = total_records - train_target - val_target\n",
    "    speaker_ids = list(speaker_counts.keys())\n",
    "    train_speakers, val_speakers, test_speakers = [], [], []\n",
    "    train_sum = val_sum = test_sum = 0\n",
    "    for speaker in speaker_ids:\n",
    "        count = speaker_counts[speaker]\n",
    "        if train_sum + count <= train_target:\n",
    "            train_speakers.append(speaker)\n",
    "            train_sum += count\n",
    "        elif val_sum + count <= val_target:\n",
    "            val_speakers.append(speaker)\n",
    "            val_sum += count\n",
    "        else:\n",
    "            test_speakers.append(speaker)\n",
    "            test_sum += count\n",
    "    train_df = manifest[(manifest['Variant']==variant)&(manifest['informant'].isin(train_speakers))]\n",
    "    valid_df = manifest[(manifest['Variant']==variant)&(manifest['informant'].isin(val_speakers))]\n",
    "    test_df = manifest[(manifest['Variant']==variant)&(manifest['informant'].isin(test_speakers))]\n",
    "    train = pd.concat([train, train_df])\n",
    "    valid = pd.concat([valid, valid_df])\n",
    "    test = pd.concat([test, test_df])\n",
    "train = train[train['audio'].str.len()>0]\n",
    "valid = valid[valid['audio'].str.len()>0]\n",
    "test = test[test['audio'].str.len()>0]    \n",
    "train_dict = train.to_dict('records')\n",
    "valid_dict = valid.to_dict('records')\n",
    "test_dict = test.to_dict('records')"
   ]
  },
  {
   "cell_type": "code",
   "execution_count": 25,
   "id": "4bb647eb",
   "metadata": {},
   "outputs": [],
   "source": [
    "label_encoder = LabelEncoder()\n",
    "label_encoder.fit(manifest['Variant'].values)\n",
    "tokenizer = BertTokenizer.from_pretrained(\"DeepPavlov/rubert-base-cased-conversational\")\n",
    "feature_extractor = WhisperFeatureExtractor.from_pretrained(\"openai/whisper-tiny\")\n",
    "train_dataset = AudioTextDataset(train_dict, label_encoder)\n",
    "train_dataloader = DataLoader(train_dataset, batch_size=16, collate_fn=collate_fn, shuffle=True)\n",
    "valid_dataset = AudioTextDataset(valid_dict, label_encoder)\n",
    "val_loader = DataLoader(valid_dataset, batch_size=16, collate_fn=collate_fn, shuffle=False)"
   ]
  },
  {
   "cell_type": "code",
   "execution_count": 26,
   "id": "62a47343",
   "metadata": {},
   "outputs": [
    {
     "name": "stdout",
     "output_type": "stream",
     "text": [
      "torch.Size([16, 64])\n"
     ]
    }
   ],
   "source": [
    "batch = next(iter(train_dataloader))\n",
    "print(batch[\"input_ids\"].shape)"
   ]
  },
  {
   "cell_type": "markdown",
   "id": "67a5a9f4",
   "metadata": {},
   "source": [
    "# Train model"
   ]
  },
  {
   "cell_type": "code",
   "execution_count": 27,
   "id": "87c49976",
   "metadata": {},
   "outputs": [
    {
     "name": "stderr",
     "output_type": "stream",
     "text": [
      "Some weights of the model checkpoint at DeepPavlov/rubert-base-cased-conversational were not used when initializing BertModel: ['cls.predictions.bias', 'cls.predictions.decoder.bias', 'cls.predictions.decoder.weight', 'cls.predictions.transform.LayerNorm.bias', 'cls.predictions.transform.LayerNorm.weight', 'cls.predictions.transform.dense.bias', 'cls.predictions.transform.dense.weight', 'cls.seq_relationship.bias', 'cls.seq_relationship.weight']\n",
      "- This IS expected if you are initializing BertModel from the checkpoint of a model trained on another task or with another architecture (e.g. initializing a BertForSequenceClassification model from a BertForPreTraining model).\n",
      "- This IS NOT expected if you are initializing BertModel from the checkpoint of a model that you expect to be exactly identical (initializing a BertForSequenceClassification model from a BertForSequenceClassification model).\n"
     ]
    }
   ],
   "source": [
    "model = AudioTextClassifier()"
   ]
  },
  {
   "cell_type": "code",
   "execution_count": 28,
   "id": "f8053e05",
   "metadata": {},
   "outputs": [
    {
     "name": "stderr",
     "output_type": "stream",
     "text": [
      "Using default `ModelCheckpoint`. Consider installing `litmodels` package to enable `LitModelCheckpoint` for automatic upload to the Lightning model registry.\n",
      "GPU available: False, used: False\n",
      "TPU available: False, using: 0 TPU cores\n",
      "HPU available: False, using: 0 HPUs\n",
      "GPU available: False, used: False\n",
      "TPU available: False, using: 0 TPU cores\n",
      "HPU available: False, using: 0 HPUs\n",
      "\n",
      "  | Name       | Type             | Params | Mode \n",
      "--------------------------------------------------------\n",
      "0 | bert       | BertModel        | 177 M  | eval \n",
      "1 | whisper    | WhisperEncoder   | 8.2 M  | eval \n",
      "2 | classifier | Sequential       | 592 K  | train\n",
      "3 | loss_fn    | CrossEntropyLoss | 0      | train\n",
      "--------------------------------------------------------\n",
      "160 M     Trainable params\n",
      "25.9 M    Non-trainable params\n",
      "186 M     Total params\n",
      "746.619   Total estimated model params size (MB)\n",
      "6         Modules in train mode\n",
      "278       Modules in eval mode\n"
     ]
    },
    {
     "data": {
      "application/vnd.jupyter.widget-view+json": {
       "model_id": "",
       "version_major": 2,
       "version_minor": 0
      },
      "text/plain": [
       "Sanity Checking: |                                                                               | 0/? [00:00<…"
      ]
     },
     "metadata": {},
     "output_type": "display_data"
    },
    {
     "name": "stderr",
     "output_type": "stream",
     "text": [
      "C:\\Users\\Katya\\anaconda3\\lib\\site-packages\\pytorch_lightning\\trainer\\connectors\\data_connector.py:425: The 'val_dataloader' does not have many workers which may be a bottleneck. Consider increasing the value of the `num_workers` argument` to `num_workers=23` in the `DataLoader` to improve performance.\n",
      "C:\\Users\\Katya\\anaconda3\\lib\\site-packages\\pytorch_lightning\\trainer\\connectors\\data_connector.py:425: The 'train_dataloader' does not have many workers which may be a bottleneck. Consider increasing the value of the `num_workers` argument` to `num_workers=23` in the `DataLoader` to improve performance.\n"
     ]
    },
    {
     "data": {
      "application/vnd.jupyter.widget-view+json": {
       "model_id": "fb3b9da3df844369bd881959001cd8c8",
       "version_major": 2,
       "version_minor": 0
      },
      "text/plain": [
       "Training: |                                                                                      | 0/? [00:00<…"
      ]
     },
     "metadata": {},
     "output_type": "display_data"
    },
    {
     "data": {
      "application/vnd.jupyter.widget-view+json": {
       "model_id": "",
       "version_major": 2,
       "version_minor": 0
      },
      "text/plain": [
       "Validation: |                                                                                    | 0/? [00:00<…"
      ]
     },
     "metadata": {},
     "output_type": "display_data"
    },
    {
     "data": {
      "application/vnd.jupyter.widget-view+json": {
       "model_id": "",
       "version_major": 2,
       "version_minor": 0
      },
      "text/plain": [
       "Validation: |                                                                                    | 0/? [00:00<…"
      ]
     },
     "metadata": {},
     "output_type": "display_data"
    },
    {
     "data": {
      "application/vnd.jupyter.widget-view+json": {
       "model_id": "",
       "version_major": 2,
       "version_minor": 0
      },
      "text/plain": [
       "Validation: |                                                                                    | 0/? [00:00<…"
      ]
     },
     "metadata": {},
     "output_type": "display_data"
    },
    {
     "data": {
      "application/vnd.jupyter.widget-view+json": {
       "model_id": "",
       "version_major": 2,
       "version_minor": 0
      },
      "text/plain": [
       "Validation: |                                                                                    | 0/? [00:00<…"
      ]
     },
     "metadata": {},
     "output_type": "display_data"
    },
    {
     "data": {
      "application/vnd.jupyter.widget-view+json": {
       "model_id": "",
       "version_major": 2,
       "version_minor": 0
      },
      "text/plain": [
       "Validation: |                                                                                    | 0/? [00:00<…"
      ]
     },
     "metadata": {},
     "output_type": "display_data"
    },
    {
     "name": "stderr",
     "output_type": "stream",
     "text": [
      "`Trainer.fit` stopped: `max_epochs=5` reached.\n"
     ]
    }
   ],
   "source": [
    "trainer = Trainer(max_epochs=5, accumulate_grad_batches=4)\n",
    "path_logs = r'C:\\Users\\Katya\\multimodal_alllayers_freezed_logs'\n",
    "if not os.path.exists(path_logs):\n",
    "    os.makedirs(path_logs)\n",
    "logger = CSVLogger(path_logs, name='multimodal_alllayers_freezed')\n",
    "chk_callback = ModelCheckpoint(\n",
    "    monitor='val_f1_macro',\n",
    "    filename='model_best',\n",
    "    save_top_k=1,\n",
    "    mode='max',\n",
    ")\n",
    "es_callback = EarlyStopping(\n",
    "   monitor='val_f1_macro',\n",
    "   min_delta=0.01,\n",
    "   patience=5,\n",
    "   verbose=False,\n",
    "   mode='max'\n",
    ")\n",
    "trainer = pl.Trainer(max_epochs=5, accumulate_grad_batches=4, logger=logger,callbacks=[chk_callback, es_callback])\n",
    "trainer.fit(model, train_dataloader, val_loader)"
   ]
  },
  {
   "cell_type": "markdown",
   "id": "00934898",
   "metadata": {},
   "source": [
    "# Test model"
   ]
  },
  {
   "cell_type": "code",
   "execution_count": 29,
   "id": "250e77a3",
   "metadata": {},
   "outputs": [],
   "source": [
    "test_dataset = AudioTextDataset(test_dict, label_encoder)\n",
    "test_loader = DataLoader(test_dataset, batch_size=16, collate_fn=collate_fn, shuffle=False)"
   ]
  },
  {
   "cell_type": "code",
   "execution_count": 32,
   "id": "677a594b",
   "metadata": {},
   "outputs": [
    {
     "name": "stderr",
     "output_type": "stream",
     "text": [
      "Some weights of the model checkpoint at DeepPavlov/rubert-base-cased-conversational were not used when initializing BertModel: ['cls.predictions.bias', 'cls.predictions.decoder.bias', 'cls.predictions.decoder.weight', 'cls.predictions.transform.LayerNorm.bias', 'cls.predictions.transform.LayerNorm.weight', 'cls.predictions.transform.dense.bias', 'cls.predictions.transform.dense.weight', 'cls.seq_relationship.bias', 'cls.seq_relationship.weight']\n",
      "- This IS expected if you are initializing BertModel from the checkpoint of a model trained on another task or with another architecture (e.g. initializing a BertForSequenceClassification model from a BertForPreTraining model).\n",
      "- This IS NOT expected if you are initializing BertModel from the checkpoint of a model that you expect to be exactly identical (initializing a BertForSequenceClassification model from a BertForSequenceClassification model).\n"
     ]
    }
   ],
   "source": [
    "path = \"/multimodal_alllayers_freezed_logs/multimodal_alllayers_freezed/version_0/checkpoints/model_best.ckpt\"\n",
    "model_finetuned = AudioTextClassifier.load_from_checkpoint(path)"
   ]
  },
  {
   "cell_type": "code",
   "execution_count": 33,
   "id": "4d29c83c",
   "metadata": {},
   "outputs": [
    {
     "name": "stderr",
     "output_type": "stream",
     "text": [
      "Using default `ModelCheckpoint`. Consider installing `litmodels` package to enable `LitModelCheckpoint` for automatic upload to the Lightning model registry.\n",
      "GPU available: False, used: False\n",
      "TPU available: False, using: 0 TPU cores\n",
      "HPU available: False, using: 0 HPUs\n",
      "C:\\Users\\Katya\\anaconda3\\lib\\site-packages\\pytorch_lightning\\trainer\\connectors\\data_connector.py:425: The 'predict_dataloader' does not have many workers which may be a bottleneck. Consider increasing the value of the `num_workers` argument` to `num_workers=23` in the `DataLoader` to improve performance.\n"
     ]
    },
    {
     "data": {
      "application/vnd.jupyter.widget-view+json": {
       "model_id": "aaebccfb336e46a68a2dcc964899cc8b",
       "version_major": 2,
       "version_minor": 0
      },
      "text/plain": [
       "Predicting: |                                                                                    | 0/? [00:00<…"
      ]
     },
     "metadata": {},
     "output_type": "display_data"
    },
    {
     "name": "stdout",
     "output_type": "stream",
     "text": [
      "               precision    recall  f1-score   support\n",
      "\n",
      "Arkhangelskie       0.65      0.74      0.69       577\n",
      " Novgorodskie       0.50      0.55      0.53       606\n",
      "    Povolzkie       0.81      0.65      0.72      1278\n",
      "    Pskovskie       0.67      0.65      0.66       980\n",
      "   Ryazanskie       0.42      0.52      0.47       549\n",
      "\n",
      "     accuracy                           0.63      3990\n",
      "    macro avg       0.61      0.62      0.61      3990\n",
      " weighted avg       0.65      0.63      0.64      3990\n",
      "\n"
     ]
    },
    {
     "data": {
      "text/plain": [
       "<sklearn.metrics._plot.confusion_matrix.ConfusionMatrixDisplay at 0x25b03803340>"
      ]
     },
     "execution_count": 33,
     "metadata": {},
     "output_type": "execute_result"
    },
    {
     "data": {
      "image/png": "[encoded data removed]",
      "text/plain": [
       "<Figure size 640x480 with 2 Axes>"
      ]
     },
     "metadata": {},
     "output_type": "display_data"
    },
    {
     "data": {
      "image/png": "[encoded data removed]",
      "text/plain": [
       "<Figure size 640x480 with 2 Axes>"
      ]
     },
     "metadata": {},
     "output_type": "display_data"
    }
   ],
   "source": [
    "trainer = Trainer()\n",
    "model_finetuned.eval()\n",
    "res = trainer.predict(model=model_finetuned, dataloaders=test_loader)\n",
    "targets = []\n",
    "preds = []\n",
    "\n",
    "for t, p in res:\n",
    "    targets.extend(t)\n",
    "    preds.extend(p)\n",
    "\n",
    "print(classification_report(torch.stack(targets).cpu(), torch.stack(preds).cpu(), target_names=variants))\n",
    "disp = ConfusionMatrixDisplay.from_predictions(torch.stack(targets).cpu(), torch.stack(preds).cpu(),\n",
    "                          display_labels=variants, xticks_rotation='vertical', cmap='binary')\n",
    "disp.plot()"
   ]
  },
  {
   "cell_type": "markdown",
   "id": "66ab4d33",
   "metadata": {},
   "source": [
    "# Test on data which not presented in dataset"
   ]
  },
  {
   "cell_type": "code",
   "execution_count": 36,
   "id": "ee6ed33c",
   "metadata": {},
   "outputs": [
    {
     "name": "stderr",
     "output_type": "stream",
     "text": [
      "100%|████████████████████████████████████████████████████████████████████████████████| 522/522 [01:24<00:00,  6.21it/s]\n",
      "C:\\Users\\Katya\\anaconda3\\lib\\site-packages\\pytorch_lightning\\trainer\\connectors\\data_connector.py:425: The 'predict_dataloader' does not have many workers which may be a bottleneck. Consider increasing the value of the `num_workers` argument` to `num_workers=23` in the `DataLoader` to improve performance.\n"
     ]
    },
    {
     "data": {
      "application/vnd.jupyter.widget-view+json": {
       "model_id": "c75c365308ae4681b9c6fa9f7bfee61b",
       "version_major": 2,
       "version_minor": 0
      },
      "text/plain": [
       "Predicting: |                                                                                    | 0/? [00:00<…"
      ]
     },
     "metadata": {},
     "output_type": "display_data"
    },
    {
     "name": "stdout",
     "output_type": "stream",
     "text": [
      "{'Arkhangelskie': 91, 'Novgorodskie': 105, 'Pskovskie': 72, 'Ryazanskie': 239, 'Povolzkie': 15}\n"
     ]
    }
   ],
   "source": [
    "yelets = pd.read_excel('manifest.xlsx')\n",
    "yelets = yelets[yelets['corpus']=='Yelets']\n",
    "yelets['Variant'] = 'Ryazanskie'\n",
    "yelets['audio'] = yelets['path'].progress_apply(read_audio)\n",
    "yelets_dict = yelets.to_dict('records')\n",
    "yelets_dataset = AudioTextDataset(yelets_dict, label_encoder)\n",
    "yelets_loader = DataLoader(yelets_dataset, batch_size=16, collate_fn=collate_fn, shuffle=False)\n",
    "res = trainer.predict(model=model_finetuned, dataloaders=yelets_loader)\n",
    "targets = []\n",
    "preds = []\n",
    "id2lab = {0: \"Arkhangelskie\", 1: \"Novgorodskie\", 2: \"Povolzkie\", 3: \"Pskovskie\", 4: \"Ryazanskie\"}\n",
    "for t, p in res:\n",
    "    targets.extend(t)\n",
    "    preds.extend(p)\n",
    "counts = {}\n",
    "for item in preds:\n",
    "    if id2lab[item.item()] in counts:\n",
    "        counts[id2lab[item.item()]] += 1\n",
    "    else:\n",
    "        counts[id2lab[item.item()]] = 1\n",
    "print(counts)"
   ]
  },
  {
   "cell_type": "code",
   "execution_count": null,
   "id": "c0eefbac",
   "metadata": {},
   "outputs": [],
   "source": []
  }
 ],
 "metadata": {
  "kernelspec": {
   "display_name": "Python 3 (ipykernel)",
   "language": "python",
   "name": "python3"
  },
  "language_info": {
   "codemirror_mode": {
    "name": "ipython",
    "version": 3
   },
   "file_extension": ".py",
   "mimetype": "text/x-python",
   "name": "python",
   "nbconvert_exporter": "python",
   "pygments_lexer": "ipython3",
   "version": "3.9.13"
  }
 },
 "nbformat": 4,
 "nbformat_minor": 5
}
