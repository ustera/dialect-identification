{
 "cells": [
  {
   "cell_type": "code",
   "execution_count": 2,
   "id": "8a54558b",
   "metadata": {},
   "outputs": [],
   "source": [
    "import torch\n",
    "from torch.utils.data import DataLoader, Dataset\n",
    "import pytorch_lightning as pl\n",
    "from pytorch_lightning import Trainer\n",
    "from transformers import BertModel, BertTokenizer, WhisperModel, WhisperFeatureExtractor\n",
    "from sklearn.metrics import accuracy_score, precision_score, recall_score, f1_score\n",
    "from sklearn.metrics import confusion_matrix, ConfusionMatrixDisplay, classification_report\n",
    "import librosa\n",
    "import pandas as pd\n",
    "from sklearn.preprocessing import LabelEncoder\n",
    "from tqdm import tqdm\n",
    "import numpy as np\n",
    "import os\n",
    "from pytorch_lightning.loggers import CSVLogger\n",
    "from pytorch_lightning.callbacks import EarlyStopping, ModelCheckpoint\n",
    "from torch.serialization import add_safe_globals\n",
    "torch.manual_seed(55)\n",
    "tqdm.pandas()"
   ]
  },
  {
   "cell_type": "markdown",
   "id": "cffe1e31",
   "metadata": {},
   "source": [
    "# Define the model where we have bert encoder, whisper encoder and classifier"
   ]
  },
  {
   "cell_type": "code",
   "execution_count": 23,
   "id": "10d79c21",
   "metadata": {},
   "outputs": [],
   "source": [
    "class AudioTextClassifier(pl.LightningModule):\n",
    "    def __init__(self, num_classes=5, hidden_dim=512, lr=5e-6):\n",
    "        super().__init__()\n",
    "        self.save_hyperparameters()\n",
    "        self.bert = BertModel.from_pretrained(\"DeepPavlov/rubert-base-cased-conversational\")\n",
    "        self.bert_hidden = self.bert.config.hidden_size\n",
    "        self.whisper = WhisperModel.from_pretrained(\"openai/whisper-tiny\").encoder\n",
    "        self.whisper_hidden = 384\n",
    "        self.classifier = torch.nn.Sequential(\n",
    "            torch.nn.Linear(self.bert_hidden + self.whisper_hidden, hidden_dim),\n",
    "            torch.nn.ReLU(),\n",
    "            torch.nn.Dropout(0.5),\n",
    "            torch.nn.Linear(hidden_dim, num_classes)\n",
    "        )\n",
    "        self.loss_fn = torch.nn.CrossEntropyLoss()\n",
    "        self.val_step_outputs = []\n",
    "        self.val_step_targets = []\n",
    "\n",
    "    def forward(self, input_ids, attention_mask, mel_spec):\n",
    "        text_feat = self.bert(input_ids=input_ids, attention_mask=attention_mask).pooler_output\n",
    "        input_features = mel_spec.transpose(1, 2)\n",
    "        audio_outputs = self.whisper(input_features=input_features)\n",
    "        audio_feat = audio_outputs.last_hidden_state.mean(dim=1) \n",
    "        combined = torch.cat((text_feat, audio_feat), dim=1)\n",
    "        logits = self.classifier(combined)\n",
    "        return logits\n",
    "\n",
    "    def training_step(self, batch, batch_idx):\n",
    "        input_ids = batch['input_ids']\n",
    "        attention_mask = batch['attention_mask']\n",
    "        mel_spec = batch['mel_spec'].transpose(1, 2)\n",
    "        labels = batch['labels'].type(torch.LongTensor)\n",
    "        logits = self(input_ids, attention_mask, mel_spec)\n",
    "        loss = self.loss_fn(logits, labels)\n",
    "        acc = (logits.argmax(dim=1) == labels).float().mean()\n",
    "        self.log(\"train_loss\", loss, prog_bar=True)\n",
    "        self.log(\"train_acc\", acc, prog_bar=True)\n",
    "        return loss\n",
    "\n",
    "    def validation_step(self, batch, batch_idx):\n",
    "        input_ids = batch['input_ids']\n",
    "        attention_mask = batch['attention_mask']\n",
    "        mel_spec = batch['mel_spec'].transpose(1, 2)\n",
    "        labels = batch['labels'].type(torch.LongTensor)\n",
    "        logits = self(input_ids, attention_mask, mel_spec)\n",
    "        loss = self.loss_fn(logits, labels)\n",
    "        preds = logits.argmax(dim=1)\n",
    "        acc = (preds == labels).float().mean()\n",
    "        self.log(\"val_loss\", loss, prog_bar=True)\n",
    "        self.log(\"val_acc\", acc, prog_bar=True)\n",
    "        self.val_step_outputs.extend(preds)\n",
    "        self.val_step_targets.extend(labels)\n",
    "        \n",
    "    def on_validation_epoch_end(self):\n",
    "        val_all_outputs = self.val_step_outputs\n",
    "        val_all_targets = self.val_step_targets\n",
    "        acc = accuracy_score(val_all_targets, val_all_outputs)\n",
    "        precision = precision_score(val_all_targets, val_all_outputs, average=\"macro\", zero_division=0)\n",
    "        recall = recall_score(val_all_targets, val_all_outputs, average=\"macro\", zero_division=0)\n",
    "        f1 = f1_score(val_all_targets, val_all_outputs, average=\"macro\", zero_division=0)\n",
    "        self.log(\"val_acc\", acc, prog_bar=True)\n",
    "        self.log(\"val_precision\", precision, prog_bar=True)\n",
    "        self.log(\"val_recall\", recall, prog_bar=True)\n",
    "        self.log(\"val_f1_macro\", f1, prog_bar=True)\n",
    "        self.val_step_outputs.clear()\n",
    "        self.val_step_targets.clear()\n",
    "        \n",
    "    def predict_step(self, batch, batch_idx, dataloader_idx=0):\n",
    "        self.eval()\n",
    "        labels = batch.pop('labels').type(torch.LongTensor)\n",
    "        logits = self(batch[\"input_ids\"], batch[\"attention_mask\"], batch[\"mel_spec\"].transpose(1, 2))\n",
    "        predictions = logits.argmax(dim=1)\n",
    "        return labels, predictions\n",
    "\n",
    "    def configure_optimizers(self):\n",
    "        return torch.optim.AdamW(self.parameters(), lr=self.hparams.lr, weight_decay=1e-4)"
   ]
  },
  {
   "cell_type": "markdown",
   "id": "53ce55d0",
   "metadata": {},
   "source": [
    "# Define dataset class"
   ]
  },
  {
   "cell_type": "code",
   "execution_count": 4,
   "id": "7cb30b8d",
   "metadata": {},
   "outputs": [],
   "source": [
    "class AudioTextDataset(Dataset):\n",
    "    def __init__(self, samples, label_encoder):\n",
    "        super().__init__()\n",
    "        self.samples = samples\n",
    "        self.label_encoder = label_encoder\n",
    "\n",
    "    def __len__(self):\n",
    "        return len(self.samples)\n",
    "\n",
    "    def __getitem__(self, idx):\n",
    "        sample = self.samples[idx]\n",
    "        text = sample[\"text\"]\n",
    "        audio = sample[\"audio\"]\n",
    "        label = label_encoder.transform([sample[\"Variant\"]])[0]\n",
    "        return {\"text\": text, \"audio\": audio, \"label\": label}"
   ]
  },
  {
   "cell_type": "code",
   "execution_count": 5,
   "id": "fa7a5516",
   "metadata": {},
   "outputs": [],
   "source": [
    "def collate_fn(batch):\n",
    "    global tokenizer, feature_extractor\n",
    "    texts = [x[\"text\"] for x in batch]\n",
    "    raw_audios = [x[\"audio\"] for x in batch]\n",
    "    labels = torch.tensor([x[\"label\"] for x in batch])\n",
    "    encoding = tokenizer(texts, return_tensors=\"pt\", padding='max_length', truncation=True, max_length=64)\n",
    "    features = feature_extractor(raw_audios, sampling_rate=16000, return_tensors=\"pt\", padding='max_length')\n",
    "    mel_spec = features.input_features\n",
    "    return {\"input_ids\": encoding[\"input_ids\"], \"attention_mask\": encoding[\"attention_mask\"], \n",
    "            \"mel_spec\": mel_spec, \"labels\": labels}"
   ]
  },
  {
   "cell_type": "markdown",
   "id": "bd8cca3d",
   "metadata": {},
   "source": [
    "# Preprocessing"
   ]
  },
  {
   "cell_type": "code",
   "execution_count": 6,
   "id": "c67c51dd",
   "metadata": {},
   "outputs": [],
   "source": [
    "def read_audio(path):\n",
    "    try:\n",
    "        audio, sample_rate = librosa.load(path, sr=16000)\n",
    "        return audio\n",
    "    except:\n",
    "        return np.array([])"
   ]
  },
  {
   "cell_type": "code",
   "execution_count": 8,
   "id": "6c765640",
   "metadata": {},
   "outputs": [
    {
     "name": "stderr",
     "output_type": "stream",
     "text": [
      "100%|████████████████████████████████████████████████████████████████████████████| 25806/25806 [25:55<00:00, 16.59it/s]\n"
     ]
    }
   ],
   "source": [
    "manifest = pd.read_excel(\"manifest_balanced.xlsx\")\n",
    "variants = [\"Arkhangelskie\", \"Novgorodskie\", \"Povolzkie\", \"Pskovskie\", \"Ryazanskie\"]\n",
    "manifest = manifest[manifest[\"Variant\"].isin(variants)]\n",
    "manifest = manifest[[\"path\", \"Variant\", \"text\", \"informant\"]]\n",
    "manifest['audio'] = manifest['path'].progress_apply(read_audio)"
   ]
  },
  {
   "cell_type": "code",
   "execution_count": 9,
   "id": "ccf7ba9b",
   "metadata": {},
   "outputs": [],
   "source": [
    "train = pd.DataFrame()\n",
    "valid = pd.DataFrame()\n",
    "test = pd.DataFrame()\n",
    "for variant in variants:\n",
    "    speaker_counts = manifest[manifest['Variant']==variant]['informant'].value_counts().to_dict()\n",
    "    total_records = len(manifest[manifest['Variant']==variant]['path'])\n",
    "    train_target = 0.7 * total_records\n",
    "    val_target = 0.165 * total_records\n",
    "    test_target = total_records - train_target - val_target\n",
    "    speaker_ids = list(speaker_counts.keys())\n",
    "    train_speakers, val_speakers, test_speakers = [], [], []\n",
    "    train_sum = val_sum = test_sum = 0\n",
    "    for speaker in speaker_ids:\n",
    "        count = speaker_counts[speaker]\n",
    "        if train_sum + count <= train_target:\n",
    "            train_speakers.append(speaker)\n",
    "            train_sum += count\n",
    "        elif val_sum + count <= val_target:\n",
    "            val_speakers.append(speaker)\n",
    "            val_sum += count\n",
    "        else:\n",
    "            test_speakers.append(speaker)\n",
    "            test_sum += count\n",
    "    train_df = manifest[(manifest['Variant']==variant)&(manifest['informant'].isin(train_speakers))]\n",
    "    valid_df = manifest[(manifest['Variant']==variant)&(manifest['informant'].isin(val_speakers))]\n",
    "    test_df = manifest[(manifest['Variant']==variant)&(manifest['informant'].isin(test_speakers))]\n",
    "    train = pd.concat([train, train_df])\n",
    "    valid = pd.concat([valid, valid_df])\n",
    "    test = pd.concat([test, test_df])\n",
    "train = train[train['audio'].str.len()>0]\n",
    "valid = valid[valid['audio'].str.len()>0]\n",
    "test = test[test['audio'].str.len()>0]    \n",
    "train_dict = train.to_dict('records')\n",
    "valid_dict = valid.to_dict('records')\n",
    "test_dict = test.to_dict('records')"
   ]
  },
  {
   "cell_type": "code",
   "execution_count": 10,
   "id": "389d57fe",
   "metadata": {},
   "outputs": [],
   "source": [
    "label_encoder = LabelEncoder()\n",
    "label_encoder.fit(manifest['Variant'].values)\n",
    "tokenizer = BertTokenizer.from_pretrained(\"DeepPavlov/rubert-base-cased-conversational\")\n",
    "feature_extractor = WhisperFeatureExtractor.from_pretrained(\"openai/whisper-tiny\")\n",
    "train_dataset = AudioTextDataset(train_dict, label_encoder)\n",
    "train_dataloader = DataLoader(train_dataset, batch_size=16, collate_fn=collate_fn, shuffle=True)\n",
    "valid_dataset = AudioTextDataset(valid_dict, label_encoder)\n",
    "val_loader = DataLoader(valid_dataset, batch_size=16, collate_fn=collate_fn, shuffle=False)"
   ]
  },
  {
   "cell_type": "code",
   "execution_count": 25,
   "id": "5c087b7f",
   "metadata": {},
   "outputs": [
    {
     "name": "stdout",
     "output_type": "stream",
     "text": [
      "torch.Size([16, 64])\n"
     ]
    }
   ],
   "source": [
    "batch = next(iter(train_dataloader))\n",
    "print(batch[\"input_ids\"].shape)"
   ]
  },
  {
   "cell_type": "markdown",
   "id": "45a5ebfb",
   "metadata": {},
   "source": [
    "# Train model"
   ]
  },
  {
   "cell_type": "code",
   "execution_count": 26,
   "id": "112d1bb5",
   "metadata": {},
   "outputs": [
    {
     "name": "stderr",
     "output_type": "stream",
     "text": [
      "Some weights of the model checkpoint at DeepPavlov/rubert-base-cased-conversational were not used when initializing BertModel: ['cls.predictions.bias', 'cls.predictions.decoder.bias', 'cls.predictions.decoder.weight', 'cls.predictions.transform.LayerNorm.bias', 'cls.predictions.transform.LayerNorm.weight', 'cls.predictions.transform.dense.bias', 'cls.predictions.transform.dense.weight', 'cls.seq_relationship.bias', 'cls.seq_relationship.weight']\n",
      "- This IS expected if you are initializing BertModel from the checkpoint of a model trained on another task or with another architecture (e.g. initializing a BertForSequenceClassification model from a BertForPreTraining model).\n",
      "- This IS NOT expected if you are initializing BertModel from the checkpoint of a model that you expect to be exactly identical (initializing a BertForSequenceClassification model from a BertForSequenceClassification model).\n"
     ]
    }
   ],
   "source": [
    "model = AudioTextClassifier()"
   ]
  },
  {
   "cell_type": "code",
   "execution_count": 27,
   "id": "f8053e05",
   "metadata": {},
   "outputs": [
    {
     "name": "stderr",
     "output_type": "stream",
     "text": [
      "Using default `ModelCheckpoint`. Consider installing `litmodels` package to enable `LitModelCheckpoint` for automatic upload to the Lightning model registry.\n",
      "GPU available: False, used: False\n",
      "TPU available: False, using: 0 TPU cores\n",
      "HPU available: False, using: 0 HPUs\n",
      "GPU available: False, used: False\n",
      "TPU available: False, using: 0 TPU cores\n",
      "HPU available: False, using: 0 HPUs\n",
      "\n",
      "  | Name       | Type             | Params | Mode \n",
      "--------------------------------------------------------\n",
      "0 | bert       | BertModel        | 177 M  | eval \n",
      "1 | whisper    | WhisperEncoder   | 8.2 M  | eval \n",
      "2 | classifier | Sequential       | 592 K  | train\n",
      "3 | loss_fn    | CrossEntropyLoss | 0      | train\n",
      "--------------------------------------------------------\n",
      "186 M     Trainable params\n",
      "576 K     Non-trainable params\n",
      "186 M     Total params\n",
      "746.619   Total estimated model params size (MB)\n",
      "6         Modules in train mode\n",
      "278       Modules in eval mode\n"
     ]
    },
    {
     "data": {
      "application/vnd.jupyter.widget-view+json": {
       "model_id": "",
       "version_major": 2,
       "version_minor": 0
      },
      "text/plain": [
       "Sanity Checking: |                                                                               | 0/? [00:00<…"
      ]
     },
     "metadata": {},
     "output_type": "display_data"
    },
    {
     "name": "stderr",
     "output_type": "stream",
     "text": [
      "C:\\Users\\Katya\\anaconda3\\lib\\site-packages\\pytorch_lightning\\trainer\\connectors\\data_connector.py:425: The 'val_dataloader' does not have many workers which may be a bottleneck. Consider increasing the value of the `num_workers` argument` to `num_workers=23` in the `DataLoader` to improve performance.\n",
      "C:\\Users\\Katya\\anaconda3\\lib\\site-packages\\pytorch_lightning\\trainer\\connectors\\data_connector.py:425: The 'train_dataloader' does not have many workers which may be a bottleneck. Consider increasing the value of the `num_workers` argument` to `num_workers=23` in the `DataLoader` to improve performance.\n"
     ]
    },
    {
     "data": {
      "application/vnd.jupyter.widget-view+json": {
       "model_id": "28f378a3ace342e1bc787cc2e6d98399",
       "version_major": 2,
       "version_minor": 0
      },
      "text/plain": [
       "Training: |                                                                                      | 0/? [00:00<…"
      ]
     },
     "metadata": {},
     "output_type": "display_data"
    },
    {
     "data": {
      "application/vnd.jupyter.widget-view+json": {
       "model_id": "",
       "version_major": 2,
       "version_minor": 0
      },
      "text/plain": [
       "Validation: |                                                                                    | 0/? [00:00<…"
      ]
     },
     "metadata": {},
     "output_type": "display_data"
    },
    {
     "data": {
      "application/vnd.jupyter.widget-view+json": {
       "model_id": "",
       "version_major": 2,
       "version_minor": 0
      },
      "text/plain": [
       "Validation: |                                                                                    | 0/? [00:00<…"
      ]
     },
     "metadata": {},
     "output_type": "display_data"
    },
    {
     "data": {
      "application/vnd.jupyter.widget-view+json": {
       "model_id": "",
       "version_major": 2,
       "version_minor": 0
      },
      "text/plain": [
       "Validation: |                                                                                    | 0/? [00:00<…"
      ]
     },
     "metadata": {},
     "output_type": "display_data"
    },
    {
     "data": {
      "application/vnd.jupyter.widget-view+json": {
       "model_id": "",
       "version_major": 2,
       "version_minor": 0
      },
      "text/plain": [
       "Validation: |                                                                                    | 0/? [00:00<…"
      ]
     },
     "metadata": {},
     "output_type": "display_data"
    },
    {
     "data": {
      "application/vnd.jupyter.widget-view+json": {
       "model_id": "",
       "version_major": 2,
       "version_minor": 0
      },
      "text/plain": [
       "Validation: |                                                                                    | 0/? [00:00<…"
      ]
     },
     "metadata": {},
     "output_type": "display_data"
    },
    {
     "name": "stderr",
     "output_type": "stream",
     "text": [
      "`Trainer.fit` stopped: `max_epochs=5` reached.\n"
     ]
    }
   ],
   "source": [
    "trainer = Trainer(max_epochs=5, accumulate_grad_batches=4)\n",
    "path_logs = r'C:\\Users\\Katya\\multimodal_alllayers_logs'\n",
    "if not os.path.exists(path_logs):\n",
    "    os.makedirs(path_logs)\n",
    "logger = CSVLogger(path_logs, name='multimodal_alllayers')\n",
    "chk_callback = ModelCheckpoint(\n",
    "    monitor='val_f1_macro',\n",
    "    filename='model_best',\n",
    "    save_top_k=1,\n",
    "    mode='max',\n",
    ")\n",
    "es_callback = EarlyStopping(\n",
    "   monitor='val_f1_macro',\n",
    "   min_delta=0.01,\n",
    "   patience=5,\n",
    "   verbose=False,\n",
    "   mode='max'\n",
    ")\n",
    "trainer = pl.Trainer(max_epochs=5, accumulate_grad_batches=4, logger=logger,callbacks=[chk_callback, es_callback])\n",
    "trainer.fit(model, train_dataloader, val_loader)"
   ]
  },
  {
   "cell_type": "markdown",
   "id": "fc2703b9",
   "metadata": {},
   "source": [
    "# Test model"
   ]
  },
  {
   "cell_type": "code",
   "execution_count": 28,
   "id": "10007a38",
   "metadata": {},
   "outputs": [],
   "source": [
    "test_dataset = AudioTextDataset(test_dict, label_encoder)\n",
    "test_loader = DataLoader(test_dataset, batch_size=16, collate_fn=collate_fn, shuffle=False)"
   ]
  },
  {
   "cell_type": "code",
   "execution_count": 29,
   "id": "d86fe4ee",
   "metadata": {},
   "outputs": [
    {
     "name": "stderr",
     "output_type": "stream",
     "text": [
      "Some weights of the model checkpoint at DeepPavlov/rubert-base-cased-conversational were not used when initializing BertModel: ['cls.predictions.bias', 'cls.predictions.decoder.bias', 'cls.predictions.decoder.weight', 'cls.predictions.transform.LayerNorm.bias', 'cls.predictions.transform.LayerNorm.weight', 'cls.predictions.transform.dense.bias', 'cls.predictions.transform.dense.weight', 'cls.seq_relationship.bias', 'cls.seq_relationship.weight']\n",
      "- This IS expected if you are initializing BertModel from the checkpoint of a model trained on another task or with another architecture (e.g. initializing a BertForSequenceClassification model from a BertForPreTraining model).\n",
      "- This IS NOT expected if you are initializing BertModel from the checkpoint of a model that you expect to be exactly identical (initializing a BertForSequenceClassification model from a BertForSequenceClassification model).\n"
     ]
    }
   ],
   "source": [
    "path = \"multimodal_alllayers_logs/multimodal_alllayers/version_1/checkpoints/model_best.ckpt\"\n",
    "model_finetuned = AudioTextClassifier.load_from_checkpoint(path)"
   ]
  },
  {
   "cell_type": "code",
   "execution_count": 41,
   "id": "a62a1632",
   "metadata": {},
   "outputs": [
    {
     "name": "stderr",
     "output_type": "stream",
     "text": [
      "Using default `ModelCheckpoint`. Consider installing `litmodels` package to enable `LitModelCheckpoint` for automatic upload to the Lightning model registry.\n",
      "GPU available: False, used: False\n",
      "TPU available: False, using: 0 TPU cores\n",
      "HPU available: False, using: 0 HPUs\n",
      "C:\\Users\\Katya\\anaconda3\\lib\\site-packages\\pytorch_lightning\\trainer\\connectors\\data_connector.py:425: The 'predict_dataloader' does not have many workers which may be a bottleneck. Consider increasing the value of the `num_workers` argument` to `num_workers=23` in the `DataLoader` to improve performance.\n"
     ]
    },
    {
     "data": {
      "application/vnd.jupyter.widget-view+json": {
       "model_id": "c6b9b6aeb7de426eb9dfb84095ed085b",
       "version_major": 2,
       "version_minor": 0
      },
      "text/plain": [
       "Predicting: |                                                                                    | 0/? [00:00<…"
      ]
     },
     "metadata": {},
     "output_type": "display_data"
    },
    {
     "name": "stdout",
     "output_type": "stream",
     "text": [
      "               precision    recall  f1-score   support\n",
      "\n",
      "Arkhangelskie       0.64      0.88      0.74       577\n",
      " Novgorodskie       0.67      0.44      0.53       606\n",
      "    Povolzkie       0.94      0.97      0.96      1278\n",
      "    Pskovskie       0.75      0.80      0.77       980\n",
      "   Ryazanskie       0.63      0.49      0.55       549\n",
      "\n",
      "     accuracy                           0.77      3990\n",
      "    macro avg       0.73      0.72      0.71      3990\n",
      " weighted avg       0.77      0.77      0.76      3990\n",
      "\n"
     ]
    },
    {
     "data": {
      "text/plain": [
       "<sklearn.metrics._plot.confusion_matrix.ConfusionMatrixDisplay at 0x1efb34f7a30>"
      ]
     },
     "execution_count": 41,
     "metadata": {},
     "output_type": "execute_result"
    },
    {
     "data": {
      "image/png": "[encoded data removed]",
      "text/plain": [
       "<Figure size 640x480 with 2 Axes>"
      ]
     },
     "metadata": {},
     "output_type": "display_data"
    },
    {
     "data": {
      "image/png": "[encoded data removed]",
      "text/plain": [
       "<Figure size 640x480 with 2 Axes>"
      ]
     },
     "metadata": {},
     "output_type": "display_data"
    }
   ],
   "source": [
    "trainer = Trainer()\n",
    "model_finetuned.eval()\n",
    "res = trainer.predict(model=model_finetuned, dataloaders=test_loader)\n",
    "targets = []\n",
    "preds = []\n",
    "\n",
    "for t, p in res:\n",
    "    targets.extend(t)\n",
    "    preds.extend(p)\n",
    "\n",
    "print(classification_report(torch.stack(targets).cpu(), torch.stack(preds).cpu(), target_names=variants))\n",
    "disp = ConfusionMatrixDisplay.from_predictions(torch.stack(targets).cpu(), torch.stack(preds).cpu(),\n",
    "                          display_labels=variants, xticks_rotation='vertical', cmap='binary')\n",
    "disp.plot()"
   ]
  },
  {
   "cell_type": "markdown",
   "id": "c8774f9f",
   "metadata": {},
   "source": [
    "# Test on data which not presented in dataset"
   ]
  },
  {
   "cell_type": "code",
   "execution_count": 56,
   "id": "331b963f",
   "metadata": {},
   "outputs": [
    {
     "name": "stderr",
     "output_type": "stream",
     "text": [
      "100%|████████████████████████████████████████████████████████████████████████████████| 522/522 [01:18<00:00,  6.66it/s]\n",
      "C:\\Users\\Katya\\anaconda3\\lib\\site-packages\\pytorch_lightning\\trainer\\connectors\\data_connector.py:425: The 'predict_dataloader' does not have many workers which may be a bottleneck. Consider increasing the value of the `num_workers` argument` to `num_workers=23` in the `DataLoader` to improve performance.\n"
     ]
    },
    {
     "data": {
      "application/vnd.jupyter.widget-view+json": {
       "model_id": "e8559814b18a42c1af18276be79817a1",
       "version_major": 2,
       "version_minor": 0
      },
      "text/plain": [
       "Predicting: |                                                                                    | 0/? [00:00<…"
      ]
     },
     "metadata": {},
     "output_type": "display_data"
    },
    {
     "name": "stdout",
     "output_type": "stream",
     "text": [
      "{'Arkhangelskie': 146, 'Ryazanskie': 261, 'Novgorodskie': 46, 'Pskovskie': 7, 'Povolzkie': 62}\n"
     ]
    }
   ],
   "source": [
    "yelets = pd.read_excel('manifest.xlsx')\n",
    "yelets = yelets[yelets['corpus']=='Yelets']\n",
    "yelets['Variant'] = 'Ryazanskie'\n",
    "yelets['audio'] = yelets['path'].progress_apply(read_audio)\n",
    "yelets_dict = yelets.to_dict('records')\n",
    "yelets_dataset = AudioTextDataset(yelets_dict, label_encoder)\n",
    "yelets_loader = DataLoader(yelets_dataset, batch_size=16, collate_fn=collate_fn, shuffle=False)\n",
    "res = trainer.predict(model=model_finetuned, dataloaders=yelets_loader)\n",
    "targets = []\n",
    "preds = []\n",
    "id2lab = {0: \"Arkhangelskie\", 1: \"Novgorodskie\", 2: \"Povolzkie\", 3: \"Pskovskie\", 4: \"Ryazanskie\"}\n",
    "for t, p in res:\n",
    "    targets.extend(t)\n",
    "    preds.extend(p)\n",
    "counts = {}\n",
    "for item in preds:\n",
    "    if id2lab[item.item()] in counts:\n",
    "        counts[id2lab[item.item()]] += 1\n",
    "    else:\n",
    "        counts[id2lab[item.item()]] = 1\n",
    "print(counts)"
   ]
  },
  {
   "cell_type": "code",
   "execution_count": null,
   "id": "379a8934",
   "metadata": {},
   "outputs": [],
   "source": []
  }
 ],
 "metadata": {
  "kernelspec": {
   "display_name": "Python 3 (ipykernel)",
   "language": "python",
   "name": "python3"
  },
  "language_info": {
   "codemirror_mode": {
    "name": "ipython",
    "version": 3
   },
   "file_extension": ".py",
   "mimetype": "text/x-python",
   "name": "python",
   "nbconvert_exporter": "python",
   "pygments_lexer": "ipython3",
   "version": "3.9.13"
  }
 },
 "nbformat": 4,
 "nbformat_minor": 5
}
