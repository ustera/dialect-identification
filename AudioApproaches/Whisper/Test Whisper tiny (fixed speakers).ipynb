{
 "cells": [
  {
   "cell_type": "code",
   "execution_count": 2,
   "id": "194a2e31",
   "metadata": {},
   "outputs": [],
   "source": [
    "import transformers\n",
    "import torch\n",
    "from transformers import WhisperFeatureExtractor, set_seed, AutoModelForAudioClassification\n",
    "import datasets\n",
    "from datasets import load_dataset, Dataset, DatasetDict, ClassLabel\n",
    "import pandas as pd\n",
    "from tqdm import tqdm\n",
    "import numpy as np\n",
    "import librosa\n",
    "from sklearn import metrics\n",
    "from sklearn.metrics import accuracy_score, f1_score, classification_report\n",
    "from sklearn.model_selection import train_test_split\n",
    "import gc\n",
    "import matplotlib.pyplot as plt\n",
    "import seaborn as sns\n",
    "from os import listdir\n",
    "from os.path import isfile, join\n",
    "tqdm.pandas()\n",
    "set_seed(55)"
   ]
  },
  {
   "cell_type": "markdown",
   "id": "f38850db",
   "metadata": {},
   "source": [
    "# Read audio"
   ]
  },
  {
   "cell_type": "code",
   "execution_count": 3,
   "id": "d0ca8bda",
   "metadata": {},
   "outputs": [],
   "source": [
    "def read_audio(path):\n",
    "    try:\n",
    "        audio, sample_rate = librosa.load(path, sr=16000)\n",
    "        return audio\n",
    "    except:\n",
    "        return np.array([])"
   ]
  },
  {
   "cell_type": "code",
   "execution_count": 4,
   "id": "c98ce8b9",
   "metadata": {},
   "outputs": [
    {
     "name": "stderr",
     "output_type": "stream",
     "text": [
      "100%|████████████████████████████████████████████████████████████████████████████| 25806/25806 [32:27<00:00, 13.25it/s]\n"
     ]
    }
   ],
   "source": [
    "manifest = pd.read_excel('manifest_balanced.xlsx')\n",
    "variants = ['Arkhangelskie', 'Novgorodskie', 'Povolzkie', 'Pskovskie', 'Ryazanskie']\n",
    "manifest = manifest[manifest['Variant'].isin(variants)]\n",
    "manifest = manifest[['path', 'Variant', 'text', 'informant']]\n",
    "manifest['array'] = manifest['path'].progress_apply(read_audio)\n",
    "manifest['sampling_rate'] = 16000"
   ]
  },
  {
   "cell_type": "markdown",
   "id": "75ea22b9",
   "metadata": {},
   "source": [
    "# Split on train, validation and test (speakers fixed)"
   ]
  },
  {
   "cell_type": "code",
   "execution_count": 5,
   "id": "97d4ed8b",
   "metadata": {},
   "outputs": [
    {
     "data": {
      "text/plain": [
       "12890"
      ]
     },
     "execution_count": 5,
     "metadata": {},
     "output_type": "execute_result"
    }
   ],
   "source": [
    "manifest = manifest[['path', 'Variant', 'array', 'sampling_rate', 'informant']]\n",
    "train = pd.DataFrame()\n",
    "valid = pd.DataFrame()\n",
    "test = pd.DataFrame()\n",
    "variants = ['Arkhangelskie', 'Novgorodskie', 'Povolzkie', 'Pskovskie', 'Ryazanskie']\n",
    "for variant in variants:\n",
    "    speaker_counts = manifest[manifest['Variant']==variant]['informant'].value_counts().to_dict()\n",
    "    total_records = len(manifest[manifest['Variant']==variant]['path'])\n",
    "    train_target = 0.7 * total_records\n",
    "    val_target = 0.165 * total_records\n",
    "    test_target = total_records - train_target - val_target\n",
    "    speaker_ids = list(speaker_counts.keys())\n",
    "    train_speakers, val_speakers, test_speakers = [], [], []\n",
    "    train_sum = val_sum = test_sum = 0\n",
    "    for speaker in speaker_ids:\n",
    "        count = speaker_counts[speaker]\n",
    "        if train_sum + count <= train_target:\n",
    "            train_speakers.append(speaker)\n",
    "            train_sum += count\n",
    "        elif val_sum + count <= val_target:\n",
    "            val_speakers.append(speaker)\n",
    "            val_sum += count\n",
    "        else:\n",
    "            test_speakers.append(speaker)\n",
    "            test_sum += count\n",
    "    train_df = manifest[(manifest['Variant']==variant)&(manifest['informant'].isin(train_speakers))]\n",
    "    valid_df = manifest[(manifest['Variant']==variant)&(manifest['informant'].isin(val_speakers))]\n",
    "    test_df = manifest[(manifest['Variant']==variant)&(manifest['informant'].isin(test_speakers))]\n",
    "    train = pd.concat([train, train_df])\n",
    "    valid = pd.concat([valid, valid_df])\n",
    "    test = pd.concat([test, test_df])\n",
    "train = train[train['array'].str.len()>0]\n",
    "valid = valid[valid['array'].str.len()>0]\n",
    "test = test[test['array'].str.len()>0]\n",
    "try:\n",
    "    del manifest\n",
    "    del train_df\n",
    "    del valid_df\n",
    "    del test_df\n",
    "except:\n",
    "    pass\n",
    "gc.collect()"
   ]
  },
  {
   "cell_type": "code",
   "execution_count": 7,
   "id": "4f1cd62e",
   "metadata": {},
   "outputs": [],
   "source": [
    "unique_labels = ['Arkhangelskie', 'Novgorodskie', 'Povolzkie', 'Pskovskie', 'Ryazanskie']\n",
    "label2id = {label: index for index, label in enumerate(unique_labels)}\n",
    "id2label = {index: label for index, label in enumerate(unique_labels)}"
   ]
  },
  {
   "cell_type": "code",
   "execution_count": 8,
   "id": "2e9e2fc9",
   "metadata": {},
   "outputs": [],
   "source": [
    "test = test[['array', 'Variant']]"
   ]
  },
  {
   "cell_type": "markdown",
   "id": "183c089b",
   "metadata": {},
   "source": [
    "# Extract features from audio (only test split)"
   ]
  },
  {
   "cell_type": "code",
   "execution_count": 9,
   "id": "8acbf37a",
   "metadata": {},
   "outputs": [],
   "source": [
    "def prepare_dataset(array):\n",
    "    input_features = feature_extractor(array, sampling_rate=16000, return_tensors='pt').input_features[0]\n",
    "    return input_features\n",
    "feature_extractor = WhisperFeatureExtractor.from_pretrained(\"openai/whisper-tiny\")"
   ]
  },
  {
   "cell_type": "code",
   "execution_count": 10,
   "id": "2da1d17b",
   "metadata": {},
   "outputs": [
    {
     "name": "stderr",
     "output_type": "stream",
     "text": [
      "100%|█████████████████████████████████████████████████████████████████████████████| 3990/3990 [00:12<00:00, 331.98it/s]\n"
     ]
    }
   ],
   "source": [
    "test = test[['array', 'Variant']]\n",
    "test['input_features'] = test['array'].progress_apply(prepare_dataset)"
   ]
  },
  {
   "cell_type": "markdown",
   "id": "90c6788d",
   "metadata": {},
   "source": [
    "# Define functions for testing"
   ]
  },
  {
   "cell_type": "code",
   "execution_count": 11,
   "id": "3b0f7693",
   "metadata": {},
   "outputs": [],
   "source": [
    "def get_predictions(array):\n",
    "    global model, id2label\n",
    "    outputs = model(torch.unsqueeze(array, 0))\n",
    "    predicted_class_ids = torch.argmax(outputs.logits)\n",
    "    return id2label[predicted_class_ids.item()]"
   ]
  },
  {
   "cell_type": "code",
   "execution_count": 12,
   "id": "6cc9b3b6",
   "metadata": {},
   "outputs": [],
   "source": [
    "def confusion_matrix(y_test, y_pred):\n",
    "    labels = ['Архангельские', 'Новгородские', 'Владимирско-Поволжские', 'Псковские', 'Рязанские']\n",
    "    df_cm = pd.DataFrame(metrics.confusion_matrix(y_test, y_pred), index = labels, columns = labels)\n",
    "    plt.figure(figsize=(8,6))\n",
    "    ax = plt.subplot()\n",
    "    sns.heatmap(df_cm, annot=True, cmap=\"binary\", fmt='g', ax=ax)\n",
    "    plt.ylabel('True label')\n",
    "    plt.xlabel('Predicted label')\n",
    "    ax.xaxis.set_ticklabels(labels)\n",
    "    ax.yaxis.set_ticklabels(labels)\n",
    "    plt.tight_layout()\n",
    "    plt.show()"
   ]
  },
  {
   "cell_type": "markdown",
   "id": "e9087a90",
   "metadata": {},
   "source": [
    "# Whisper tiny fine-tuned (without augmentation)"
   ]
  },
  {
   "cell_type": "code",
   "execution_count": 15,
   "id": "9a4f9b74",
   "metadata": {},
   "outputs": [
    {
     "data": {
      "text/plain": [
       "WhisperForAudioClassification(\n",
       "  (encoder): WhisperEncoder(\n",
       "    (conv1): Conv1d(80, 384, kernel_size=(3,), stride=(1,), padding=(1,))\n",
       "    (conv2): Conv1d(384, 384, kernel_size=(3,), stride=(2,), padding=(1,))\n",
       "    (embed_positions): Embedding(1500, 384)\n",
       "    (layers): ModuleList(\n",
       "      (0-3): 4 x WhisperEncoderLayer(\n",
       "        (self_attn): WhisperSdpaAttention(\n",
       "          (k_proj): Linear(in_features=384, out_features=384, bias=False)\n",
       "          (v_proj): Linear(in_features=384, out_features=384, bias=True)\n",
       "          (q_proj): Linear(in_features=384, out_features=384, bias=True)\n",
       "          (out_proj): Linear(in_features=384, out_features=384, bias=True)\n",
       "        )\n",
       "        (self_attn_layer_norm): LayerNorm((384,), eps=1e-05, elementwise_affine=True)\n",
       "        (activation_fn): GELUActivation()\n",
       "        (fc1): Linear(in_features=384, out_features=1536, bias=True)\n",
       "        (fc2): Linear(in_features=1536, out_features=384, bias=True)\n",
       "        (final_layer_norm): LayerNorm((384,), eps=1e-05, elementwise_affine=True)\n",
       "      )\n",
       "    )\n",
       "    (layer_norm): LayerNorm((384,), eps=1e-05, elementwise_affine=True)\n",
       "  )\n",
       "  (projector): Linear(in_features=384, out_features=256, bias=True)\n",
       "  (classifier): Linear(in_features=256, out_features=5, bias=True)\n",
       ")"
      ]
     },
     "execution_count": 15,
     "metadata": {},
     "output_type": "execute_result"
    }
   ],
   "source": [
    "model = AutoModelForAudioClassification.from_pretrained('/whisper-tiny-finetuned-rudialect-fixed-speakers-with-encoder/model')\n",
    "device = \"cpu\"\n",
    "model.to(device)"
   ]
  },
  {
   "cell_type": "code",
   "execution_count": 16,
   "id": "091e315a",
   "metadata": {},
   "outputs": [
    {
     "name": "stderr",
     "output_type": "stream",
     "text": [
      "100%|██████████████████████████████████████████████████████████████████████████████| 3990/3990 [05:06<00:00, 13.02it/s]\n"
     ]
    }
   ],
   "source": [
    "test['predictions'] = test['input_features'].progress_apply(get_predictions)"
   ]
  },
  {
   "cell_type": "code",
   "execution_count": 17,
   "id": "d1b8b56b",
   "metadata": {},
   "outputs": [
    {
     "name": "stdout",
     "output_type": "stream",
     "text": [
      "               precision    recall  f1-score   support\n",
      "\n",
      "Arkhangelskie       0.54      0.78      0.64       577\n",
      " Novgorodskie       0.73      0.47      0.57       606\n",
      "    Povolzkie       0.88      0.80      0.84      1278\n",
      "    Pskovskie       0.72      0.78      0.75       980\n",
      "   Ryazanskie       0.44      0.43      0.43       549\n",
      "\n",
      "     accuracy                           0.69      3990\n",
      "    macro avg       0.66      0.65      0.65      3990\n",
      " weighted avg       0.71      0.69      0.69      3990\n",
      "\n"
     ]
    }
   ],
   "source": [
    "print(classification_report(test['Variant'], test['predictions']))"
   ]
  },
  {
   "cell_type": "markdown",
   "id": "6e1360cd",
   "metadata": {},
   "source": [
    "# Testing the dependence of prediction on fragment length"
   ]
  },
  {
   "cell_type": "code",
   "execution_count": 21,
   "id": "39db17e0",
   "metadata": {},
   "outputs": [],
   "source": [
    "manifest = pd.read_excel('manifest_balanced.xlsx')\n",
    "test_df_manifest = manifest.join(test, how='inner', lsuffix='_manifest', rsuffix='_test')"
   ]
  },
  {
   "cell_type": "code",
   "execution_count": 22,
   "id": "9202ac62",
   "metadata": {},
   "outputs": [],
   "source": [
    "def segment_type(duration):\n",
    "    if duration>0 and duration<=5:\n",
    "        return '0-5 seconds'\n",
    "    elif duration>5 and duration<=10:\n",
    "        return '5-10 seconds'\n",
    "    elif duration>10 and duration<=15:\n",
    "        return '10-15 seconds'\n",
    "    elif duration>15 and duration<=20:\n",
    "        return '15-20 seconds'\n",
    "    elif duration>20:\n",
    "        return '20-30 seconds'"
   ]
  },
  {
   "cell_type": "code",
   "execution_count": 23,
   "id": "d4c2eb9e",
   "metadata": {},
   "outputs": [
    {
     "name": "stderr",
     "output_type": "stream",
     "text": [
      "100%|██████████████████████████████████████████████████████████████████████████| 3990/3990 [00:00<00:00, 664942.50it/s]\n"
     ]
    }
   ],
   "source": [
    "test_df_manifest['duration_type'] = test_df_manifest['duration'].progress_apply(segment_type)"
   ]
  },
  {
   "cell_type": "code",
   "execution_count": 24,
   "id": "136fb791",
   "metadata": {},
   "outputs": [
    {
     "name": "stdout",
     "output_type": "stream",
     "text": [
      "               precision    recall  f1-score   support\n",
      "\n",
      "Arkhangelskie       0.42      0.68      0.52       155\n",
      " Novgorodskie       0.73      0.34      0.46       342\n",
      "    Povolzkie       0.86      0.84      0.85       810\n",
      "    Pskovskie       0.74      0.82      0.77       609\n",
      "   Ryazanskie       0.45      0.51      0.48       263\n",
      "\n",
      "     accuracy                           0.71      2179\n",
      "    macro avg       0.64      0.64      0.62      2179\n",
      " weighted avg       0.72      0.71      0.70      2179\n",
      "\n"
     ]
    }
   ],
   "source": [
    "print(classification_report(test_df_manifest[test_df_manifest['duration_type'] == '0-5 seconds']['Variant_test'], \n",
    "                            test_df_manifest[test_df_manifest['duration_type'] == '0-5 seconds']['predictions']))"
   ]
  },
  {
   "cell_type": "code",
   "execution_count": 25,
   "id": "d37eab02",
   "metadata": {},
   "outputs": [
    {
     "name": "stdout",
     "output_type": "stream",
     "text": [
      "               precision    recall  f1-score   support\n",
      "\n",
      "Arkhangelskie       0.53      0.80      0.64       146\n",
      " Novgorodskie       0.71      0.59      0.64       167\n",
      "    Povolzkie       0.91      0.75      0.83       453\n",
      "    Pskovskie       0.67      0.71      0.69       295\n",
      "   Ryazanskie       0.19      0.24      0.21        76\n",
      "\n",
      "     accuracy                           0.69      1137\n",
      "    macro avg       0.60      0.62      0.60      1137\n",
      " weighted avg       0.72      0.69      0.70      1137\n",
      "\n"
     ]
    }
   ],
   "source": [
    "print(classification_report(test_df_manifest[test_df_manifest['duration_type'] == '5-10 seconds']['Variant_test'], \n",
    "                            test_df_manifest[test_df_manifest['duration_type'] == '5-10 seconds']['predictions']))"
   ]
  },
  {
   "cell_type": "code",
   "execution_count": 26,
   "id": "3b0b1759",
   "metadata": {},
   "outputs": [
    {
     "name": "stdout",
     "output_type": "stream",
     "text": [
      "               precision    recall  f1-score   support\n",
      "\n",
      "Arkhangelskie       0.58      0.85      0.69       102\n",
      " Novgorodskie       0.80      0.67      0.73        55\n",
      "    Povolzkie       1.00      0.20      0.33        10\n",
      "    Pskovskie       0.72      0.81      0.76        63\n",
      "   Ryazanskie       0.41      0.18      0.25        72\n",
      "\n",
      "     accuracy                           0.63       302\n",
      "    macro avg       0.70      0.54      0.55       302\n",
      " weighted avg       0.62      0.63      0.60       302\n",
      "\n"
     ]
    }
   ],
   "source": [
    "print(classification_report(test_df_manifest[test_df_manifest['duration_type'] == '10-15 seconds']['Variant_test'], \n",
    "                            test_df_manifest[test_df_manifest['duration_type'] == '10-15 seconds']['predictions']))"
   ]
  },
  {
   "cell_type": "code",
   "execution_count": 27,
   "id": "02bc1ae5",
   "metadata": {},
   "outputs": [
    {
     "name": "stdout",
     "output_type": "stream",
     "text": [
      "               precision    recall  f1-score   support\n",
      "\n",
      "Arkhangelskie       0.70      0.87      0.77       104\n",
      " Novgorodskie       0.68      0.85      0.75        27\n",
      "    Povolzkie       0.00      0.00      0.00         5\n",
      "    Pskovskie       0.90      0.90      0.90        10\n",
      "   Ryazanskie       0.55      0.29      0.38        58\n",
      "\n",
      "     accuracy                           0.68       204\n",
      "    macro avg       0.56      0.58      0.56       204\n",
      " weighted avg       0.65      0.68      0.65       204\n",
      "\n"
     ]
    },
    {
     "name": "stderr",
     "output_type": "stream",
     "text": [
      "C:\\Users\\Katya\\anaconda3\\lib\\site-packages\\sklearn\\metrics\\_classification.py:1318: UndefinedMetricWarning: Precision and F-score are ill-defined and being set to 0.0 in labels with no predicted samples. Use `zero_division` parameter to control this behavior.\n",
      "  _warn_prf(average, modifier, msg_start, len(result))\n",
      "C:\\Users\\Katya\\anaconda3\\lib\\site-packages\\sklearn\\metrics\\_classification.py:1318: UndefinedMetricWarning: Precision and F-score are ill-defined and being set to 0.0 in labels with no predicted samples. Use `zero_division` parameter to control this behavior.\n",
      "  _warn_prf(average, modifier, msg_start, len(result))\n",
      "C:\\Users\\Katya\\anaconda3\\lib\\site-packages\\sklearn\\metrics\\_classification.py:1318: UndefinedMetricWarning: Precision and F-score are ill-defined and being set to 0.0 in labels with no predicted samples. Use `zero_division` parameter to control this behavior.\n",
      "  _warn_prf(average, modifier, msg_start, len(result))\n"
     ]
    }
   ],
   "source": [
    "print(classification_report(test_df_manifest[test_df_manifest['duration_type'] == '15-20 seconds']['Variant_test'], \n",
    "                            test_df_manifest[test_df_manifest['duration_type'] == '15-20 seconds']['predictions']))"
   ]
  },
  {
   "cell_type": "code",
   "execution_count": 28,
   "id": "ec2db9ec",
   "metadata": {},
   "outputs": [
    {
     "name": "stdout",
     "output_type": "stream",
     "text": [
      "               precision    recall  f1-score   support\n",
      "\n",
      "Arkhangelskie       0.64      0.70      0.67        70\n",
      " Novgorodskie       0.69      0.73      0.71        15\n",
      "    Pskovskie       1.00      1.00      1.00         3\n",
      "   Ryazanskie       0.70      0.64      0.67        80\n",
      "\n",
      "     accuracy                           0.68       168\n",
      "    macro avg       0.76      0.77      0.76       168\n",
      " weighted avg       0.68      0.68      0.68       168\n",
      "\n"
     ]
    }
   ],
   "source": [
    "print(classification_report(test_df_manifest[test_df_manifest['duration_type'] == '20-30 seconds']['Variant_test'], \n",
    "                            test_df_manifest[test_df_manifest['duration_type'] == '20-30 seconds']['predictions']))"
   ]
  },
  {
   "cell_type": "code",
   "execution_count": 29,
   "id": "129a627e",
   "metadata": {},
   "outputs": [
    {
     "data": {
      "image/png": "[encoded data removed]",
      "text/plain": [
       "<Figure size 800x600 with 2 Axes>"
      ]
     },
     "metadata": {},
     "output_type": "display_data"
    }
   ],
   "source": [
    "confusion_matrix(test['Variant'], test['predictions'])"
   ]
  },
  {
   "cell_type": "markdown",
   "id": "b22c92a6",
   "metadata": {},
   "source": [
    "## Test on data which not presented in dataset"
   ]
  },
  {
   "cell_type": "markdown",
   "id": "a9d9f35c",
   "metadata": {},
   "source": [
    "## Yelets"
   ]
  },
  {
   "cell_type": "code",
   "execution_count": 30,
   "id": "639fb6d6",
   "metadata": {},
   "outputs": [
    {
     "name": "stderr",
     "output_type": "stream",
     "text": [
      "100%|████████████████████████████████████████████████████████████████████████████████| 522/522 [01:17<00:00,  6.75it/s]\n",
      "100%|███████████████████████████████████████████████████████████████████████████████| 522/522 [00:01<00:00, 336.26it/s]\n"
     ]
    }
   ],
   "source": [
    "yelets = pd.read_excel('manifest.xlsx')\n",
    "yelets = yelets[yelets['corpus']=='Yelets']\n",
    "yelets['Variant'] = 'Mezhzonalnie'\n",
    "yelets = yelets[['path', 'Variant']]\n",
    "yelets['array'] = yelets['path'].progress_apply(read_audio)\n",
    "yelets['sampling_rate'] = 16000\n",
    "yelets = yelets[['array', 'Variant']]\n",
    "yelets['input_features'] = yelets['array'].progress_apply(prepare_dataset)"
   ]
  },
  {
   "cell_type": "code",
   "execution_count": 31,
   "id": "9bd9363a",
   "metadata": {},
   "outputs": [
    {
     "name": "stderr",
     "output_type": "stream",
     "text": [
      "100%|████████████████████████████████████████████████████████████████████████████████| 522/522 [00:39<00:00, 13.07it/s]\n"
     ]
    }
   ],
   "source": [
    "yelets['predictions'] = yelets['input_features'].progress_apply(get_predictions)"
   ]
  },
  {
   "cell_type": "code",
   "execution_count": 32,
   "id": "17c75fbd",
   "metadata": {},
   "outputs": [
    {
     "data": {
      "text/plain": [
       "Ryazanskie       248\n",
       "Arkhangelskie    137\n",
       "Pskovskie         93\n",
       "Novgorodskie      38\n",
       "Povolzkie          6\n",
       "Name: predictions, dtype: int64"
      ]
     },
     "execution_count": 32,
     "metadata": {},
     "output_type": "execute_result"
    }
   ],
   "source": [
    "yelets['predictions'].value_counts()"
   ]
  },
  {
   "cell_type": "markdown",
   "id": "96826843",
   "metadata": {},
   "source": [
    "## Pskov"
   ]
  },
  {
   "cell_type": "code",
   "execution_count": 39,
   "id": "930ae3be",
   "metadata": {},
   "outputs": [
    {
     "name": "stderr",
     "output_type": "stream",
     "text": [
      "100%|██████████████████████████████████████████████████████████████████████████████████| 68/68 [00:04<00:00, 15.40it/s]\n",
      "100%|█████████████████████████████████████████████████████████████████████████████████| 68/68 [00:00<00:00, 343.36it/s]\n"
     ]
    }
   ],
   "source": [
    "path1 = '/RNC_Pskov/pskov_luch'\n",
    "pskov1 = [join(path1, f) for f in listdir(path1) if isfile(join(path1, f))]\n",
    "path2 = '/RNC_Pskov/pskov_vedma'\n",
    "pskov2 = [join(path2, f) for f in listdir(path2) if isfile(join(path2, f))]\n",
    "pskov_test_rnc = pskov1 + pskov2\n",
    "pskov_test_rnc_df = pd.DataFrame(pskov_test_rnc, columns=['path'])\n",
    "pskov_test_rnc_df['Variant'] = 'Pskovskie'\n",
    "pskov_test_rnc_df['array'] = pskov_test_rnc_df['path'].progress_apply(read_audio)\n",
    "pskov_test_rnc_df['sampling_rate'] = 16000\n",
    "pskov_test_rnc_df['input_features'] = pskov_test_rnc_df['array'].progress_apply(prepare_dataset)"
   ]
  },
  {
   "cell_type": "code",
   "execution_count": 40,
   "id": "edcf1ba0",
   "metadata": {},
   "outputs": [],
   "source": [
    "pskov_test_rnc_df = pskov_test_rnc_df[pskov_test_rnc_df['array'].str.len()>0]"
   ]
  },
  {
   "cell_type": "code",
   "execution_count": 41,
   "id": "451b544b",
   "metadata": {},
   "outputs": [
    {
     "name": "stderr",
     "output_type": "stream",
     "text": [
      "100%|██████████████████████████████████████████████████████████████████████████████████| 68/68 [00:05<00:00, 13.02it/s]\n"
     ]
    }
   ],
   "source": [
    "pskov_test_rnc_df['predictions'] = pskov_test_rnc_df['input_features'].progress_apply(get_predictions)"
   ]
  },
  {
   "cell_type": "code",
   "execution_count": 42,
   "id": "dcc332b3",
   "metadata": {},
   "outputs": [
    {
     "data": {
      "text/plain": [
       "Novgorodskie     33\n",
       "Pskovskie        20\n",
       "Povolzkie        12\n",
       "Arkhangelskie     2\n",
       "Ryazanskie        1\n",
       "Name: predictions, dtype: int64"
      ]
     },
     "execution_count": 42,
     "metadata": {},
     "output_type": "execute_result"
    }
   ],
   "source": [
    "pskov_test_rnc_df['predictions'].value_counts()"
   ]
  },
  {
   "cell_type": "markdown",
   "id": "633fe9c6",
   "metadata": {},
   "source": [
    "# Whisper tiny fine-tuned (augmented)"
   ]
  },
  {
   "cell_type": "code",
   "execution_count": 12,
   "id": "2f958d01",
   "metadata": {},
   "outputs": [
    {
     "name": "stderr",
     "output_type": "stream",
     "text": [
      "100%|██████████████████████████████████████████████████████████████████████████████| 3990/3990 [05:05<00:00, 13.08it/s]\n"
     ]
    }
   ],
   "source": [
    "model = AutoModelForAudioClassification.from_pretrained('/whisper-tiny-finetuned-rudialect-fixed-speakers-with-encoder-aug/model')\n",
    "device = \"cpu\"\n",
    "model.to(device)\n",
    "test['predictions'] = test['input_features'].progress_apply(get_predictions)"
   ]
  },
  {
   "cell_type": "code",
   "execution_count": 13,
   "id": "2aeb62bb",
   "metadata": {
    "scrolled": true
   },
   "outputs": [
    {
     "name": "stdout",
     "output_type": "stream",
     "text": [
      "               precision    recall  f1-score   support\n",
      "\n",
      "Arkhangelskie       0.54      0.82      0.65       577\n",
      " Novgorodskie       0.56      0.61      0.58       606\n",
      "    Povolzkie       0.80      0.73      0.76      1278\n",
      "    Pskovskie       0.76      0.65      0.70       980\n",
      "   Ryazanskie       0.47      0.40      0.43       549\n",
      "\n",
      "     accuracy                           0.66      3990\n",
      "    macro avg       0.63      0.64      0.63      3990\n",
      " weighted avg       0.67      0.66      0.66      3990\n",
      "\n"
     ]
    }
   ],
   "source": [
    "print(classification_report(test['Variant'], test['predictions']))"
   ]
  },
  {
   "cell_type": "code",
   "execution_count": 14,
   "id": "d968933d",
   "metadata": {},
   "outputs": [
    {
     "data": {
      "image/png": "[encoded data removed]",
      "text/plain": [
       "<Figure size 800x600 with 2 Axes>"
      ]
     },
     "metadata": {},
     "output_type": "display_data"
    }
   ],
   "source": [
    "confusion_matrix(test['Variant'], test['predictions'])"
   ]
  },
  {
   "cell_type": "markdown",
   "id": "4aeb54af",
   "metadata": {},
   "source": [
    "# Test on data which not presented in dataset"
   ]
  },
  {
   "cell_type": "markdown",
   "id": "7f856d24",
   "metadata": {},
   "source": [
    "## Yelets"
   ]
  },
  {
   "cell_type": "code",
   "execution_count": 15,
   "id": "bb5ccc2d",
   "metadata": {},
   "outputs": [
    {
     "name": "stderr",
     "output_type": "stream",
     "text": [
      "100%|████████████████████████████████████████████████████████████████████████████████| 522/522 [01:37<00:00,  5.36it/s]\n",
      "100%|███████████████████████████████████████████████████████████████████████████████| 522/522 [00:01<00:00, 309.36it/s]\n"
     ]
    }
   ],
   "source": [
    "yelets = pd.read_excel('manifest.xlsx')\n",
    "yelets = yelets[yelets['corpus']=='Yelets']\n",
    "yelets['Variant'] = 'Mezhzonalnie'\n",
    "yelets = yelets[['path', 'Variant']]\n",
    "yelets['array'] = yelets['path'].progress_apply(read_audio)\n",
    "yelets['sampling_rate'] = 16000\n",
    "yelets = yelets[['array', 'Variant']]\n",
    "yelets['input_features'] = yelets['array'].progress_apply(prepare_dataset)"
   ]
  },
  {
   "cell_type": "code",
   "execution_count": 16,
   "id": "12a21da4",
   "metadata": {},
   "outputs": [
    {
     "name": "stderr",
     "output_type": "stream",
     "text": [
      "100%|████████████████████████████████████████████████████████████████████████████████| 522/522 [00:39<00:00, 13.12it/s]\n"
     ]
    }
   ],
   "source": [
    "yelets['predictions'] = yelets['input_features'].progress_apply(get_predictions)"
   ]
  },
  {
   "cell_type": "code",
   "execution_count": 17,
   "id": "d73e4290",
   "metadata": {},
   "outputs": [
    {
     "data": {
      "text/plain": [
       "Arkhangelskie    190\n",
       "Ryazanskie       185\n",
       "Novgorodskie     121\n",
       "Pskovskie         21\n",
       "Povolzkie          5\n",
       "Name: predictions, dtype: int64"
      ]
     },
     "execution_count": 17,
     "metadata": {},
     "output_type": "execute_result"
    }
   ],
   "source": [
    "yelets['predictions'].value_counts()"
   ]
  },
  {
   "cell_type": "markdown",
   "id": "73977c75",
   "metadata": {},
   "source": [
    "## Pskov"
   ]
  },
  {
   "cell_type": "code",
   "execution_count": 18,
   "id": "e83d3f33",
   "metadata": {},
   "outputs": [
    {
     "name": "stderr",
     "output_type": "stream",
     "text": [
      "100%|██████████████████████████████████████████████████████████████████████████████████| 68/68 [00:04<00:00, 13.87it/s]\n",
      "100%|█████████████████████████████████████████████████████████████████████████████████| 68/68 [00:00<00:00, 319.18it/s]\n"
     ]
    }
   ],
   "source": [
    "path1 = '/RNC_Pskov/pskov_luch'\n",
    "pskov1 = [join(path1, f) for f in listdir(path1) if isfile(join(path1, f))]\n",
    "path2 = '/RNC_Pskov/pskov_vedma'\n",
    "pskov2 = [join(path2, f) for f in listdir(path2) if isfile(join(path2, f))]\n",
    "pskov_test_rnc = pskov1 + pskov2\n",
    "pskov_test_rnc_df = pd.DataFrame(pskov_test_rnc, columns=['path'])\n",
    "pskov_test_rnc_df['Variant'] = 'Pskovskie'\n",
    "pskov_test_rnc_df['array'] = pskov_test_rnc_df['path'].progress_apply(read_audio)\n",
    "pskov_test_rnc_df['sampling_rate'] = 16000\n",
    "pskov_test_rnc_df['input_features'] = pskov_test_rnc_df['array'].progress_apply(prepare_dataset)"
   ]
  },
  {
   "cell_type": "code",
   "execution_count": 19,
   "id": "32b97cec",
   "metadata": {},
   "outputs": [],
   "source": [
    "pskov_test_rnc_df = pskov_test_rnc_df[pskov_test_rnc_df['array'].str.len()>0]"
   ]
  },
  {
   "cell_type": "code",
   "execution_count": 20,
   "id": "8744ba26",
   "metadata": {},
   "outputs": [
    {
     "name": "stderr",
     "output_type": "stream",
     "text": [
      "100%|██████████████████████████████████████████████████████████████████████████████████| 68/68 [00:05<00:00, 13.09it/s]\n"
     ]
    }
   ],
   "source": [
    "pskov_test_rnc_df['predictions'] = pskov_test_rnc_df['input_features'].progress_apply(get_predictions)"
   ]
  },
  {
   "cell_type": "code",
   "execution_count": 21,
   "id": "c5d9675b",
   "metadata": {},
   "outputs": [
    {
     "data": {
      "text/plain": [
       "Novgorodskie     37\n",
       "Pskovskie        21\n",
       "Povolzkie         9\n",
       "Arkhangelskie     1\n",
       "Name: predictions, dtype: int64"
      ]
     },
     "execution_count": 21,
     "metadata": {},
     "output_type": "execute_result"
    }
   ],
   "source": [
    "pskov_test_rnc_df['predictions'].value_counts()"
   ]
  },
  {
   "cell_type": "markdown",
   "id": "1cba7ca2",
   "metadata": {},
   "source": [
    "# Whisper tiny fine-tuned (vanilla fine-tuning)"
   ]
  },
  {
   "cell_type": "code",
   "execution_count": 13,
   "id": "385ac768",
   "metadata": {},
   "outputs": [
    {
     "name": "stderr",
     "output_type": "stream",
     "text": [
      "100%|██████████████████████████████████████████████████████████████████████████████| 3990/3990 [05:04<00:00, 13.10it/s]\n"
     ]
    }
   ],
   "source": [
    "model = AutoModelForAudioClassification.from_pretrained('/whisper-tiny-finetuned-rudialect-fixed-speakers-trainallmodel/model')\n",
    "device = \"cpu\"\n",
    "model.to(device)\n",
    "test['predictions'] = test['input_features'].progress_apply(get_predictions)"
   ]
  },
  {
   "cell_type": "code",
   "execution_count": 14,
   "id": "ab14dad7",
   "metadata": {},
   "outputs": [
    {
     "name": "stdout",
     "output_type": "stream",
     "text": [
      "               precision    recall  f1-score   support\n",
      "\n",
      "Arkhangelskie       0.63      0.82      0.71       577\n",
      " Novgorodskie       0.55      0.36      0.44       606\n",
      "    Povolzkie       0.95      0.91      0.93      1278\n",
      "    Pskovskie       0.65      0.80      0.72       980\n",
      "   Ryazanskie       0.65      0.49      0.56       549\n",
      "\n",
      "     accuracy                           0.73      3990\n",
      "    macro avg       0.69      0.68      0.67      3990\n",
      " weighted avg       0.73      0.73      0.72      3990\n",
      "\n"
     ]
    }
   ],
   "source": [
    "print(classification_report(test['Variant'], test['predictions']))"
   ]
  },
  {
   "cell_type": "code",
   "execution_count": 15,
   "id": "fe9d6531",
   "metadata": {},
   "outputs": [
    {
     "data": {
      "image/png": "[encoded data removed]",
      "text/plain": [
       "<Figure size 800x600 with 2 Axes>"
      ]
     },
     "metadata": {},
     "output_type": "display_data"
    }
   ],
   "source": [
    "confusion_matrix(test['Variant'], test['predictions'])"
   ]
  },
  {
   "cell_type": "markdown",
   "id": "fec4a08d",
   "metadata": {},
   "source": [
    "# Test on data which not presented in dataset"
   ]
  },
  {
   "cell_type": "markdown",
   "id": "87d85671",
   "metadata": {},
   "source": [
    "## Yelets"
   ]
  },
  {
   "cell_type": "code",
   "execution_count": 16,
   "id": "050fffac",
   "metadata": {},
   "outputs": [
    {
     "name": "stderr",
     "output_type": "stream",
     "text": [
      "100%|████████████████████████████████████████████████████████████████████████████████| 522/522 [01:16<00:00,  6.81it/s]\n",
      "100%|███████████████████████████████████████████████████████████████████████████████| 522/522 [00:01<00:00, 339.33it/s]\n",
      "100%|████████████████████████████████████████████████████████████████████████████████| 522/522 [00:39<00:00, 13.12it/s]\n"
     ]
    },
    {
     "data": {
      "text/plain": [
       "Ryazanskie       266\n",
       "Pskovskie        112\n",
       "Arkhangelskie     96\n",
       "Novgorodskie      33\n",
       "Povolzkie         15\n",
       "Name: predictions, dtype: int64"
      ]
     },
     "execution_count": 16,
     "metadata": {},
     "output_type": "execute_result"
    }
   ],
   "source": [
    "yelets = pd.read_excel('manifest.xlsx')\n",
    "yelets = yelets[yelets['corpus']=='Yelets']\n",
    "yelets['Variant'] = 'Mezhzonalnie'\n",
    "yelets = yelets[['path', 'Variant']]\n",
    "yelets['array'] = yelets['path'].progress_apply(read_audio)\n",
    "yelets['sampling_rate'] = 16000\n",
    "yelets = yelets[['array', 'Variant']]\n",
    "yelets['input_features'] = yelets['array'].progress_apply(prepare_dataset)\n",
    "yelets['predictions'] = yelets['input_features'].progress_apply(get_predictions)\n",
    "yelets['predictions'].value_counts()"
   ]
  },
  {
   "cell_type": "markdown",
   "id": "d95b9205",
   "metadata": {},
   "source": [
    "## Pskov"
   ]
  },
  {
   "cell_type": "code",
   "execution_count": 17,
   "id": "75c6ceaf",
   "metadata": {},
   "outputs": [
    {
     "name": "stderr",
     "output_type": "stream",
     "text": [
      "100%|██████████████████████████████████████████████████████████████████████████████████| 68/68 [00:04<00:00, 15.36it/s]\n",
      "100%|█████████████████████████████████████████████████████████████████████████████████| 68/68 [00:00<00:00, 341.63it/s]\n",
      "100%|██████████████████████████████████████████████████████████████████████████████████| 68/68 [00:05<00:00, 13.07it/s]\n"
     ]
    },
    {
     "data": {
      "text/plain": [
       "Pskovskie        20\n",
       "Novgorodskie     20\n",
       "Povolzkie        18\n",
       "Arkhangelskie    10\n",
       "Name: predictions, dtype: int64"
      ]
     },
     "execution_count": 17,
     "metadata": {},
     "output_type": "execute_result"
    }
   ],
   "source": [
    "path1 = '/RNC_Pskov/pskov_luch'\n",
    "pskov1 = [join(path1, f) for f in listdir(path1) if isfile(join(path1, f))]\n",
    "path2 = '/RNC_Pskov/pskov_vedma'\n",
    "pskov2 = [join(path2, f) for f in listdir(path2) if isfile(join(path2, f))]\n",
    "pskov_test_rnc = pskov1 + pskov2\n",
    "pskov_test_rnc_df = pd.DataFrame(pskov_test_rnc, columns=['path'])\n",
    "pskov_test_rnc_df['Variant'] = 'Pskovskie'\n",
    "pskov_test_rnc_df['array'] = pskov_test_rnc_df['path'].progress_apply(read_audio)\n",
    "pskov_test_rnc_df['sampling_rate'] = 16000\n",
    "pskov_test_rnc_df['input_features'] = pskov_test_rnc_df['array'].progress_apply(prepare_dataset)\n",
    "pskov_test_rnc_df = pskov_test_rnc_df[pskov_test_rnc_df['array'].str.len()>0]\n",
    "pskov_test_rnc_df['predictions'] = pskov_test_rnc_df['input_features'].progress_apply(get_predictions)\n",
    "pskov_test_rnc_df['predictions'].value_counts()"
   ]
  },
  {
   "cell_type": "code",
   "execution_count": null,
   "id": "5a7c2a55",
   "metadata": {},
   "outputs": [],
   "source": []
  }
 ],
 "metadata": {
  "kernelspec": {
   "display_name": "Python 3 (ipykernel)",
   "language": "python",
   "name": "python3"
  },
  "language_info": {
   "codemirror_mode": {
    "name": "ipython",
    "version": 3
   },
   "file_extension": ".py",
   "mimetype": "text/x-python",
   "name": "python",
   "nbconvert_exporter": "python",
   "pygments_lexer": "ipython3",
   "version": "3.9.13"
  }
 },
 "nbformat": 4,
 "nbformat_minor": 5
}
